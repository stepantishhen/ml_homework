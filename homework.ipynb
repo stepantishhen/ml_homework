{
 "cells": [
  {
   "cell_type": "code",
   "id": "initial_id",
   "metadata": {
    "collapsed": true,
    "ExecuteTime": {
     "end_time": "2024-04-16T11:19:49.147532Z",
     "start_time": "2024-04-16T11:19:49.084238Z"
    }
   },
   "source": [
    "from sklearn import datasets\n",
    "from sklearn.cluster import KMeans\n",
    "from sklearn.metrics import silhouette_score"
   ],
   "execution_count": 4,
   "outputs": []
  },
  {
   "metadata": {
    "ExecuteTime": {
     "end_time": "2024-04-16T11:19:50.226565Z",
     "start_time": "2024-04-16T11:19:50.158509Z"
    }
   },
   "cell_type": "code",
   "source": [
    "iris = datasets.load_iris()\n",
    "X = iris.data\n",
    "y = iris.target\n",
    "km = KMeans(n_clusters=3, random_state=42)\n",
    "km.fit_predict(X)\n",
    "score = silhouette_score(X, km.labels_, metric='euclidean')\n",
    "print('Silhouetter Score: %.3f' % score)"
   ],
   "id": "cfb0531d11620e47",
   "execution_count": 5,
   "outputs": []
  },
  {
   "metadata": {
    "ExecuteTime": {
     "end_time": "2024-04-16T11:19:51.309422Z",
     "start_time": "2024-04-16T11:19:51.305433Z"
    }
   },
   "cell_type": "code",
   "source": [
    "from sklearn.cluster import KMeans\n",
    "from yellowbrick.cluster import SilhouetteVisualizer\n",
    "import matplotlib.pyplot as plt"
   ],
   "id": "9fdc0187c1f8ff1e",
   "execution_count": 6,
   "outputs": []
  },
  {
   "metadata": {
    "ExecuteTime": {
     "end_time": "2024-04-16T11:19:52.887389Z",
     "start_time": "2024-04-16T11:19:51.837181Z"
    }
   },
   "cell_type": "code",
   "source": [
    "from sklearn.cluster import KMeans\n",
    "from yellowbrick.cluster import SilhouetteVisualizer\n",
    "import matplotlib.pyplot as plt\n",
    "\n",
    "fig, ax = plt.subplots(2, 2, figsize=(15,8))\n",
    "for i in [2, 3, 4, 5]:\n",
    "    km = KMeans(\n",
    "        n_clusters=i, \n",
    "        init='k-means++', \n",
    "        n_init=10, \n",
    "        max_iter=100, \n",
    "        random_state=42)\n",
    "    q, mod = divmod(i, 2)\n",
    "    visualizer = SilhouetteVisualizer(km, colors='yellowbrick', ax=ax[q-1][mod])\n",
    "    visualizer.fit(X)\n",
    "\n",
    "plt.savefig(f'out/silhouette_visualizer_clusters.png', bbox_inches='tight')\n",
    "plt.show()"
   ],
   "id": "4d6fdebd20cf5bd7",
   "execution_count": 7,
   "outputs": []
  },
  {
   "metadata": {
    "ExecuteTime": {
     "end_time": "2024-04-16T06:43:16.821198Z",
     "start_time": "2024-04-16T06:43:16.817798Z"
    }
   },
   "cell_type": "code",
   "source": [
    "import numpy as np\n",
    "import imageio"
   ],
   "id": "f6092e846a5377e",
   "execution_count": 11,
   "outputs": []
  },
  {
   "metadata": {
    "ExecuteTime": {
     "end_time": "2024-04-16T07:08:44.619711Z",
     "start_time": "2024-04-16T07:08:43.213560Z"
    }
   },
   "cell_type": "code",
   "source": [
    "k = 3\n",
    "np.random.seed(0)\n",
    "centroids_indices = np.random.choice(range(len(X)), k, replace=False)\n",
    "centroids = X[centroids_indices]\n",
    "\n",
    "def distance(a, b):\n",
    "    return np.sqrt(np.sum((a - b) ** 2))\n",
    "\n",
    "\n",
    "def assign_clusters(X, centroids):\n",
    "    clusters = []\n",
    "    for point in X:\n",
    "        distances = [distance(point, centroid) for centroid in centroids]\n",
    "        cluster = np.argmin(distances)\n",
    "        clusters.append(cluster)\n",
    "    return np.array(clusters)\n",
    "\n",
    "\n",
    "def update_centroids(X, clusters, k):\n",
    "    centroids = []\n",
    "    for i in range(k):\n",
    "        cluster_points = X[clusters == i]\n",
    "        centroid = np.mean(cluster_points, axis=0)\n",
    "        centroids.append(centroid)\n",
    "    return np.array(centroids)\n",
    "\n",
    "\n",
    "max_iter = 100\n",
    "images = []\n",
    "for iteration in range(max_iter):\n",
    "    clusters = assign_clusters(X, centroids)\n",
    "    plt.figure(figsize=(8, 6))\n",
    "    colors = ['r', 'g', 'b']\n",
    "    for i in range(k):\n",
    "        cluster_points = X[clusters == i]\n",
    "        plt.scatter(cluster_points[:, 0], cluster_points[:, 1], c=colors[i], label=f'Кластер {i + 1}')\n",
    "    plt.scatter(centroids[:, 0], centroids[:, 1], c='black', marker='x', label='Центроиды')\n",
    "    plt.xlabel('Sepal Length')\n",
    "    plt.ylabel('Sepal Width')\n",
    "    plt.title(f'K-means Clustering - Итерация {iteration + 1}')\n",
    "    plt.legend()\n",
    "\n",
    "    plt.savefig(f'out/iteration_{iteration}.png')\n",
    "    plt.close()\n",
    "    images.append(imageio.imread_v2(f'out/iteration_{iteration}.png'))\n",
    "\n",
    "    new_centroids = update_centroids(X, clusters, k)\n",
    "    if np.all(centroids == new_centroids):\n",
    "        print(\"Алгоритм сходится на шаге\", iteration + 1)\n",
    "        break\n",
    "\n",
    "    centroids = new_centroids\n",
    "\n",
    "imageio.mimsave('kmeans_animation.gif', images, fps=1)"
   ],
   "id": "e0452c8e702f379a",
   "execution_count": 28,
   "outputs": []
  },
  {
   "metadata": {},
   "cell_type": "code",
   "execution_count": null,
   "source": "",
   "id": "77d38eb82eeb9f06",
   "outputs": []
  }
 ],
 "metadata": {
  "kernelspec": {
   "display_name": "Python 3",
   "language": "python",
   "name": "python3"
  },
  "language_info": {
   "codemirror_mode": {
    "name": "ipython",
    "version": 2
   },
   "file_extension": ".py",
   "mimetype": "text/x-python",
   "name": "python",
   "nbconvert_exporter": "python",
   "pygments_lexer": "ipython2",
   "version": "2.7.6"
  }
 },
 "nbformat": 4,
 "nbformat_minor": 5
}
