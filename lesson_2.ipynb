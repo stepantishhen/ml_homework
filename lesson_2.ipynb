{
 "cells": [
  {
   "cell_type": "code",
   "execution_count": 2,
   "id": "initial_id",
   "metadata": {
    "collapsed": true,
    "ExecuteTime": {
     "end_time": "2024-03-19T11:57:57.533412Z",
     "start_time": "2024-03-19T11:57:56.427615Z"
    }
   },
   "source": [
    "import pandas  as pd\n",
    "import numpy as np\n",
    "import matplotlib.pyplot as plt"
   ],
   "outputs": []
  },
  {
   "cell_type": "code",
   "source": [
    "data = pd.read_csv('titanic.csv')"
   ],
   "metadata": {
    "collapsed": false,
    "ExecuteTime": {
     "end_time": "2024-03-05T11:18:57.902801Z",
     "start_time": "2024-03-05T11:18:57.895092Z"
    }
   },
   "id": "3fb33f4ba3c848c5",
   "execution_count": 2,
   "outputs": []
  },
  {
   "cell_type": "code",
   "source": [
    "data.Age.min()"
   ],
   "metadata": {
    "collapsed": false,
    "ExecuteTime": {
     "end_time": "2024-03-05T11:19:30.361981Z",
     "start_time": "2024-03-05T11:19:30.356924Z"
    }
   },
   "id": "4698a01e7bfcd48e",
   "execution_count": 5,
   "outputs": []
  },
  {
   "cell_type": "code",
   "source": [
    "data.Age.mean()"
   ],
   "metadata": {
    "collapsed": false,
    "ExecuteTime": {
     "end_time": "2024-03-05T11:20:04.735636Z",
     "start_time": "2024-03-05T11:20:04.730754Z"
    }
   },
   "id": "393bf85cfec8db48",
   "execution_count": 6,
   "outputs": []
  },
  {
   "cell_type": "code",
   "source": [
    "data.Age.median()"
   ],
   "metadata": {
    "collapsed": false,
    "ExecuteTime": {
     "end_time": "2024-03-05T11:21:43.509613Z",
     "start_time": "2024-03-05T11:21:43.503124Z"
    }
   },
   "id": "ceba6d155a5684b8",
   "execution_count": 7,
   "outputs": []
  },
  {
   "cell_type": "code",
   "source": [
    "data.Age.describe()"
   ],
   "metadata": {
    "collapsed": false,
    "ExecuteTime": {
     "end_time": "2024-03-05T11:22:33.667851Z",
     "start_time": "2024-03-05T11:22:33.659767Z"
    }
   },
   "id": "6ec90198e4fe4155",
   "execution_count": 8,
   "outputs": []
  },
  {
   "cell_type": "code",
   "source": [
    "data.Age.sort_values()"
   ],
   "metadata": {
    "collapsed": false,
    "ExecuteTime": {
     "end_time": "2024-03-05T11:25:12.748200Z",
     "start_time": "2024-03-05T11:25:12.741387Z"
    }
   },
   "id": "cd9d125f1463102c",
   "execution_count": 9,
   "outputs": []
  },
  {
   "cell_type": "code",
   "source": [
    "data.Age.sort_values(ascending=False)"
   ],
   "metadata": {
    "collapsed": false,
    "ExecuteTime": {
     "end_time": "2024-03-05T11:26:30.198975Z",
     "start_time": "2024-03-05T11:26:30.193238Z"
    }
   },
   "id": "f6d773b7fa61097a",
   "execution_count": 10,
   "outputs": []
  },
  {
   "cell_type": "code",
   "source": [
    "data.sort_values(by=\"Pclass\")"
   ],
   "metadata": {
    "collapsed": false,
    "ExecuteTime": {
     "end_time": "2024-03-05T11:34:14.250452Z",
     "start_time": "2024-03-05T11:34:14.236551Z"
    }
   },
   "id": "5ef50864737f0d48",
   "execution_count": 15,
   "outputs": []
  },
  {
   "cell_type": "code",
   "source": [
    "data.sort_values(by=['Age', 'Pclass'])"
   ],
   "metadata": {
    "collapsed": false,
    "ExecuteTime": {
     "end_time": "2024-03-05T11:35:27.804386Z",
     "start_time": "2024-03-05T11:35:27.789216Z"
    }
   },
   "id": "4d447729712033f2",
   "execution_count": 16,
   "outputs": []
  },
  {
   "cell_type": "code",
   "source": [
    "x = [1, 2, 3]\n",
    "y = [4, 5, 1]\n",
    "plt.plot(x, y, color='red')"
   ],
   "metadata": {
    "collapsed": false,
    "ExecuteTime": {
     "end_time": "2024-03-05T11:38:28.974358Z",
     "start_time": "2024-03-05T11:38:28.800041Z"
    }
   },
   "id": "ee44d3b485ca6901",
   "execution_count": 20,
   "outputs": []
  },
  {
   "cell_type": "code",
   "source": [
    "plt.scatter(x, y, color='red')"
   ],
   "metadata": {
    "collapsed": false,
    "ExecuteTime": {
     "end_time": "2024-03-05T11:39:00.531110Z",
     "start_time": "2024-03-05T11:39:00.338203Z"
    }
   },
   "id": "19a73bd49e891788",
   "execution_count": 22,
   "outputs": []
  },
  {
   "cell_type": "code",
   "source": [
    "people = [[\"Male\", 23], [\"Female\", 24], [\"male\", 25], [\"female\", 26]]"
   ],
   "metadata": {
    "collapsed": false,
    "ExecuteTime": {
     "end_time": "2024-03-05T11:48:59.103102Z",
     "start_time": "2024-03-05T11:48:59.099288Z"
    }
   },
   "id": "e186016fb0a81c8c",
   "execution_count": 31,
   "outputs": []
  },
  {
   "cell_type": "code",
   "source": [
    "m = []\n",
    "f = []\n",
    "for gender, age in people:\n",
    "    m.append(gender)\n",
    "    f.append(age)"
   ],
   "metadata": {
    "collapsed": false,
    "ExecuteTime": {
     "end_time": "2024-03-05T11:42:10.971223Z",
     "start_time": "2024-03-05T11:42:10.967103Z"
    }
   },
   "id": "1bc1c58e5509eb5e",
   "execution_count": 25,
   "outputs": []
  },
  {
   "cell_type": "code",
   "source": [
    "m"
   ],
   "metadata": {
    "collapsed": false,
    "ExecuteTime": {
     "end_time": "2024-03-05T11:42:17.511085Z",
     "start_time": "2024-03-05T11:42:17.506322Z"
    }
   },
   "id": "467d7e73a04b262e",
   "execution_count": 26,
   "outputs": []
  },
  {
   "cell_type": "code",
   "source": [
    "plt.bar(m, f, color='red')"
   ],
   "metadata": {
    "collapsed": false,
    "ExecuteTime": {
     "end_time": "2024-03-05T11:43:53.324316Z",
     "start_time": "2024-03-05T11:43:53.201349Z"
    }
   },
   "id": "67818248ac911ef5",
   "execution_count": 29,
   "outputs": []
  },
  {
   "cell_type": "code",
   "source": [
    "plt.bar(range(len(f)), f, color='blue')"
   ],
   "metadata": {
    "collapsed": false,
    "ExecuteTime": {
     "end_time": "2024-03-05T11:52:32.781202Z",
     "start_time": "2024-03-05T11:52:32.622118Z"
    }
   },
   "id": "e9bc1c9a89013574",
   "execution_count": 37,
   "outputs": []
  },
  {
   "cell_type": "code",
   "source": [
    "data.Age.hist()"
   ],
   "metadata": {
    "collapsed": false,
    "ExecuteTime": {
     "end_time": "2024-03-05T11:52:59.336381Z",
     "start_time": "2024-03-05T11:52:59.145025Z"
    }
   },
   "id": "644ac3840c0cbb9d",
   "execution_count": 38,
   "outputs": []
  },
  {
   "cell_type": "code",
   "source": [
    "data.groupby('Pclass').size().plot(kind='pie', y='Pclass')"
   ],
   "metadata": {
    "collapsed": false,
    "ExecuteTime": {
     "end_time": "2024-03-05T12:01:47.378807Z",
     "start_time": "2024-03-05T12:01:47.285027Z"
    }
   },
   "id": "3119f0cb72d5d6c8",
   "execution_count": 44,
   "outputs": []
  },
  {
   "cell_type": "code",
   "source": [
    "data.groupby([\"Survived\", \"Sex\"]).size().unstack().plot(kind='bar')"
   ],
   "metadata": {
    "collapsed": false,
    "ExecuteTime": {
     "end_time": "2024-03-05T12:16:28.882875Z",
     "start_time": "2024-03-05T12:16:28.782049Z"
    }
   },
   "id": "84330e92a1350dab",
   "execution_count": 52,
   "outputs": []
  }
 ],
 "metadata": {
  "kernelspec": {
   "display_name": "Python 3",
   "language": "python",
   "name": "python3"
  },
  "language_info": {
   "codemirror_mode": {
    "name": "ipython",
    "version": 2
   },
   "file_extension": ".py",
   "mimetype": "text/x-python",
   "name": "python",
   "nbconvert_exporter": "python",
   "pygments_lexer": "ipython2",
   "version": "2.7.6"
  }
 },
 "nbformat": 4,
 "nbformat_minor": 5
}
