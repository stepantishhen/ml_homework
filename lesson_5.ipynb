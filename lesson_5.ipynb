{
 "cells": [
  {
   "cell_type": "code",
   "id": "initial_id",
   "metadata": {
    "collapsed": true,
    "ExecuteTime": {
     "end_time": "2024-04-16T11:51:52.103005Z",
     "start_time": "2024-04-16T11:51:51.893087Z"
    }
   },
   "source": "import pygame",
   "execution_count": 2,
   "outputs": []
  },
  {
   "metadata": {
    "ExecuteTime": {
     "end_time": "2024-04-16T13:24:34.572613Z",
     "start_time": "2024-04-16T12:17:20.487320Z"
    }
   },
   "cell_type": "code",
   "source": [
    "import pygame\n",
    "from sklearn.cluster import DBSCAN\n",
    "\n",
    "pygame.init()\n",
    "\n",
    "window_size = (600, 400)\n",
    "background_color = (255, 255, 255)\n",
    "points = []\n",
    "point_r = 5\n",
    "\n",
    "\n",
    "\n",
    "pygame.display.set_caption(\"test\")\n",
    "screen = pygame.display.set_mode(window_size)\n",
    "screen.fill(background_color)\n",
    "\n",
    "colors = ['blue', 'green', 'red', 'yellow', 'black', 'white']\n",
    "while True:\n",
    "    for event in pygame.event.get():\n",
    "        if event.type == pygame.QUIT:\n",
    "            pygame.quit()\n",
    "            exit()\n",
    "\n",
    "        if event.type == pygame.MOUSEBUTTONDOWN:\n",
    "            if event.button == 1:\n",
    "                point = pygame.mouse.get_pos()\n",
    "                points.append(point)\n",
    "\n",
    "                pygame.draw.circle(screen, 'black', point, point_r)\n",
    "\n",
    "        if event.type == pygame.KEYDOWN:\n",
    "            if event.key == pygame.K_r:\n",
    "                dbscan = DBSCAN(eps= 40, min_samples=5)\n",
    "                dbscan.fit(points)\n",
    "                clusters = dbscan.labels_\n",
    "                for i in range(len(points)):\n",
    "                    pygame.draw.circle(screen, colors[clusters[i]], points[i], point_r)\n",
    "\n",
    "        pygame.display.flip()\n"
   ],
   "id": "671978e3730e9288",
   "execution_count": 1,
   "outputs": []
  },
  {
   "metadata": {},
   "cell_type": "code",
   "execution_count": null,
   "source": "",
   "id": "c8d1653a6be8118f",
   "outputs": []
  }
 ],
 "metadata": {
  "kernelspec": {
   "display_name": "Python 3",
   "language": "python",
   "name": "python3"
  },
  "language_info": {
   "codemirror_mode": {
    "name": "ipython",
    "version": 2
   },
   "file_extension": ".py",
   "mimetype": "text/x-python",
   "name": "python",
   "nbconvert_exporter": "python",
   "pygments_lexer": "ipython2",
   "version": "2.7.6"
  }
 },
 "nbformat": 4,
 "nbformat_minor": 5
}
