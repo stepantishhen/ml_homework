{
 "cells": [
  {
   "cell_type": "code",
   "id": "initial_id",
   "metadata": {
    "collapsed": true,
    "ExecuteTime": {
     "end_time": "2024-04-14T13:51:37.577124Z",
     "start_time": "2024-04-14T13:51:35.820656Z"
    }
   },
   "source": [
    "import pandas  as pd\n",
    "import numpy as np\n",
    "import matplotlib.pyplot as plt\n",
    "from sklearn.cluster import KMeans"
   ],
   "execution_count": 2,
   "outputs": []
  },
  {
   "cell_type": "code",
   "source": [
    "class Point():\n",
    "    def __init__(self, x, y):\n",
    "        self.x = x\n",
    "        self.y = y"
   ],
   "metadata": {
    "collapsed": false,
    "ExecuteTime": {
     "end_time": "2024-04-14T13:51:37.583706Z",
     "start_time": "2024-04-14T13:51:37.579178Z"
    }
   },
   "id": "fb815661528999d8",
   "execution_count": 3,
   "outputs": []
  },
  {
   "cell_type": "code",
   "source": [
    "n = 30\n",
    "points = [Point(*np.random.randint(0, 100, 2)) for _ in range(n)]\n",
    "x = list(map(lambda x: x.x, points))\n",
    "y = list(map(lambda y: y.y, points))"
   ],
   "metadata": {
    "collapsed": false,
    "ExecuteTime": {
     "end_time": "2024-04-14T13:51:37.602757Z",
     "start_time": "2024-04-14T13:51:37.585242Z"
    }
   },
   "id": "c91bea104477aee6",
   "execution_count": 4,
   "outputs": []
  },
  {
   "cell_type": "code",
   "source": [
    "plt.scatter(x, y)"
   ],
   "metadata": {
    "collapsed": false,
    "ExecuteTime": {
     "end_time": "2024-04-14T13:51:37.794974Z",
     "start_time": "2024-04-14T13:51:37.605184Z"
    }
   },
   "id": "41bd7ff8b065b9d8",
   "execution_count": 5,
   "outputs": []
  },
  {
   "cell_type": "code",
   "source": [
    "from scipy.spatial import distance\n",
    "\n",
    "\n",
    "def dist(point1, point2):\n",
    "    return distance.euclidean(point1, point2)\n",
    "\n",
    "def center(points, k):\n",
    "    centroids = []\n",
    "    x = list(map(lambda x: x.x, points))\n",
    "    y = list(map(lambda y: y.y, points))\n",
    "    p_c = Point(np.mean(x), np.mean(y))\n",
    "    r = 0\n",
    "    for i in range(len(points)):\n",
    "        d = dist(p_c, points[i])\n",
    "        if r < d:\n",
    "            r = d\n",
    "    for i in range(k):\n",
    "        x_c = p_c.x + r * np.cos(2 * np.pi * i / k)\n",
    "        y_c = p_c.y + r * np.cos(2 * np.pi * i / k)\n",
    "        centroids.append(Point(x_c, y_c))\n"
   ],
   "metadata": {
    "collapsed": false,
    "ExecuteTime": {
     "end_time": "2024-04-14T13:51:37.801808Z",
     "start_time": "2024-04-14T13:51:37.796616Z"
    }
   },
   "id": "8fc79cf29d396707",
   "execution_count": 6,
   "outputs": []
  },
  {
   "cell_type": "code",
   "source": [
    "n = 3\n",
    "contule = [(i.x, i.y) for i in points]\n",
    "kmeans = KMeans(n).fit(contule)\n",
    "clusters = kmeans.labels_\n",
    "plt.scatter(x, y, c=clusters)"
   ],
   "metadata": {
    "collapsed": false,
    "is_executing": true,
    "ExecuteTime": {
     "end_time": "2024-04-14T13:51:52.398764Z",
     "start_time": "2024-04-14T13:51:52.194004Z"
    }
   },
   "id": "55456be10580b4fb",
   "execution_count": 8,
   "outputs": []
  },
  {
   "cell_type": "code",
   "source": [],
   "metadata": {
    "collapsed": false
   },
   "id": "c08adafdc9932cda",
   "execution_count": null,
   "outputs": []
  },
  {
   "metadata": {},
   "cell_type": "code",
   "execution_count": null,
   "source": "",
   "id": "b08fcc7a28fe2b6d",
   "outputs": []
  }
 ],
 "metadata": {
  "kernelspec": {
   "display_name": "Python 3",
   "language": "python",
   "name": "python3"
  },
  "language_info": {
   "codemirror_mode": {
    "name": "ipython",
    "version": 2
   },
   "file_extension": ".py",
   "mimetype": "text/x-python",
   "name": "python",
   "nbconvert_exporter": "python",
   "pygments_lexer": "ipython2",
   "version": "2.7.6"
  }
 },
 "nbformat": 4,
 "nbformat_minor": 5
}
