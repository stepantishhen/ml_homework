{
 "cells": [
  {
   "cell_type": "code",
   "outputs": [],
   "source": [
    "import pandas as pd\n",
    "data = pd.read_csv('titanic.csv')"
   ],
   "metadata": {
    "collapsed": false,
    "ExecuteTime": {
     "end_time": "2024-02-20T11:33:41.549205923Z",
     "start_time": "2024-02-20T11:33:41.258181198Z"
    }
   },
   "id": "27570dbf6b63dea7",
   "execution_count": 1
  },
  {
   "cell_type": "code",
   "outputs": [
    {
     "data": {
      "text/plain": "   PassengerId  Survived  Pclass  \\\n0            1         0       3   \n1            2         1       1   \n2            3         1       3   \n3            4         1       1   \n4            5         0       3   \n\n                                                Name     Sex   Age  SibSp  \\\n0                            Braund, Mr. Owen Harris    male  22.0      1   \n1  Cumings, Mrs. John Bradley (Florence Briggs Th...  female  38.0      1   \n2                             Heikkinen, Miss. Laina  female  26.0      0   \n3       Futrelle, Mrs. Jacques Heath (Lily May Peel)  female  35.0      1   \n4                           Allen, Mr. William Henry    male  35.0      0   \n\n   Parch            Ticket     Fare Cabin Embarked  \n0      0         A/5 21171   7.2500   NaN        S  \n1      0          PC 17599  71.2833   C85        C  \n2      0  STON/O2. 3101282   7.9250   NaN        S  \n3      0            113803  53.1000  C123        S  \n4      0            373450   8.0500   NaN        S  ",
      "text/html": "<div>\n<style scoped>\n    .dataframe tbody tr th:only-of-type {\n        vertical-align: middle;\n    }\n\n    .dataframe tbody tr th {\n        vertical-align: top;\n    }\n\n    .dataframe thead th {\n        text-align: right;\n    }\n</style>\n<table border=\"1\" class=\"dataframe\">\n  <thead>\n    <tr style=\"text-align: right;\">\n      <th></th>\n      <th>PassengerId</th>\n      <th>Survived</th>\n      <th>Pclass</th>\n      <th>Name</th>\n      <th>Sex</th>\n      <th>Age</th>\n      <th>SibSp</th>\n      <th>Parch</th>\n      <th>Ticket</th>\n      <th>Fare</th>\n      <th>Cabin</th>\n      <th>Embarked</th>\n    </tr>\n  </thead>\n  <tbody>\n    <tr>\n      <th>0</th>\n      <td>1</td>\n      <td>0</td>\n      <td>3</td>\n      <td>Braund, Mr. Owen Harris</td>\n      <td>male</td>\n      <td>22.0</td>\n      <td>1</td>\n      <td>0</td>\n      <td>A/5 21171</td>\n      <td>7.2500</td>\n      <td>NaN</td>\n      <td>S</td>\n    </tr>\n    <tr>\n      <th>1</th>\n      <td>2</td>\n      <td>1</td>\n      <td>1</td>\n      <td>Cumings, Mrs. John Bradley (Florence Briggs Th...</td>\n      <td>female</td>\n      <td>38.0</td>\n      <td>1</td>\n      <td>0</td>\n      <td>PC 17599</td>\n      <td>71.2833</td>\n      <td>C85</td>\n      <td>C</td>\n    </tr>\n    <tr>\n      <th>2</th>\n      <td>3</td>\n      <td>1</td>\n      <td>3</td>\n      <td>Heikkinen, Miss. Laina</td>\n      <td>female</td>\n      <td>26.0</td>\n      <td>0</td>\n      <td>0</td>\n      <td>STON/O2. 3101282</td>\n      <td>7.9250</td>\n      <td>NaN</td>\n      <td>S</td>\n    </tr>\n    <tr>\n      <th>3</th>\n      <td>4</td>\n      <td>1</td>\n      <td>1</td>\n      <td>Futrelle, Mrs. Jacques Heath (Lily May Peel)</td>\n      <td>female</td>\n      <td>35.0</td>\n      <td>1</td>\n      <td>0</td>\n      <td>113803</td>\n      <td>53.1000</td>\n      <td>C123</td>\n      <td>S</td>\n    </tr>\n    <tr>\n      <th>4</th>\n      <td>5</td>\n      <td>0</td>\n      <td>3</td>\n      <td>Allen, Mr. William Henry</td>\n      <td>male</td>\n      <td>35.0</td>\n      <td>0</td>\n      <td>0</td>\n      <td>373450</td>\n      <td>8.0500</td>\n      <td>NaN</td>\n      <td>S</td>\n    </tr>\n  </tbody>\n</table>\n</div>"
     },
     "execution_count": 31,
     "metadata": {},
     "output_type": "execute_result"
    }
   ],
   "source": [
    "data.head()"
   ],
   "metadata": {
    "collapsed": false,
    "ExecuteTime": {
     "end_time": "2024-02-20T11:55:39.746770984Z",
     "start_time": "2024-02-20T11:55:39.704854275Z"
    }
   },
   "id": "f56a0d96b4f46bb0",
   "execution_count": 31
  },
  {
   "cell_type": "code",
   "outputs": [
    {
     "data": {
      "text/plain": "     PassengerId  Survived  Pclass  \\\n0              1         0       3   \n1              2         1       1   \n2              3         1       3   \n3              4         1       1   \n4              5         0       3   \n..           ...       ...     ...   \n886          887         0       2   \n887          888         1       1   \n888          889         0       3   \n889          890         1       1   \n890          891         0       3   \n\n                                                  Name     Sex   Age  SibSp  \\\n0                              Braund, Mr. Owen Harris    male  22.0      1   \n1    Cumings, Mrs. John Bradley (Florence Briggs Th...  female  38.0      1   \n2                               Heikkinen, Miss. Laina  female  26.0      0   \n3         Futrelle, Mrs. Jacques Heath (Lily May Peel)  female  35.0      1   \n4                             Allen, Mr. William Henry    male  35.0      0   \n..                                                 ...     ...   ...    ...   \n886                              Montvila, Rev. Juozas    male  27.0      0   \n887                       Graham, Miss. Margaret Edith  female  19.0      0   \n888           Johnston, Miss. Catherine Helen \"Carrie\"  female   NaN      1   \n889                              Behr, Mr. Karl Howell    male  26.0      0   \n890                                Dooley, Mr. Patrick    male  32.0      0   \n\n     Parch            Ticket     Fare Cabin Embarked  \n0        0         A/5 21171   7.2500   NaN        S  \n1        0          PC 17599  71.2833   C85        C  \n2        0  STON/O2. 3101282   7.9250   NaN        S  \n3        0            113803  53.1000  C123        S  \n4        0            373450   8.0500   NaN        S  \n..     ...               ...      ...   ...      ...  \n886      0            211536  13.0000   NaN        S  \n887      0            112053  30.0000   B42        S  \n888      2        W./C. 6607  23.4500   NaN        S  \n889      0            111369  30.0000  C148        C  \n890      0            370376   7.7500   NaN        Q  \n\n[891 rows x 12 columns]",
      "text/html": "<div>\n<style scoped>\n    .dataframe tbody tr th:only-of-type {\n        vertical-align: middle;\n    }\n\n    .dataframe tbody tr th {\n        vertical-align: top;\n    }\n\n    .dataframe thead th {\n        text-align: right;\n    }\n</style>\n<table border=\"1\" class=\"dataframe\">\n  <thead>\n    <tr style=\"text-align: right;\">\n      <th></th>\n      <th>PassengerId</th>\n      <th>Survived</th>\n      <th>Pclass</th>\n      <th>Name</th>\n      <th>Sex</th>\n      <th>Age</th>\n      <th>SibSp</th>\n      <th>Parch</th>\n      <th>Ticket</th>\n      <th>Fare</th>\n      <th>Cabin</th>\n      <th>Embarked</th>\n    </tr>\n  </thead>\n  <tbody>\n    <tr>\n      <th>0</th>\n      <td>1</td>\n      <td>0</td>\n      <td>3</td>\n      <td>Braund, Mr. Owen Harris</td>\n      <td>male</td>\n      <td>22.0</td>\n      <td>1</td>\n      <td>0</td>\n      <td>A/5 21171</td>\n      <td>7.2500</td>\n      <td>NaN</td>\n      <td>S</td>\n    </tr>\n    <tr>\n      <th>1</th>\n      <td>2</td>\n      <td>1</td>\n      <td>1</td>\n      <td>Cumings, Mrs. John Bradley (Florence Briggs Th...</td>\n      <td>female</td>\n      <td>38.0</td>\n      <td>1</td>\n      <td>0</td>\n      <td>PC 17599</td>\n      <td>71.2833</td>\n      <td>C85</td>\n      <td>C</td>\n    </tr>\n    <tr>\n      <th>2</th>\n      <td>3</td>\n      <td>1</td>\n      <td>3</td>\n      <td>Heikkinen, Miss. Laina</td>\n      <td>female</td>\n      <td>26.0</td>\n      <td>0</td>\n      <td>0</td>\n      <td>STON/O2. 3101282</td>\n      <td>7.9250</td>\n      <td>NaN</td>\n      <td>S</td>\n    </tr>\n    <tr>\n      <th>3</th>\n      <td>4</td>\n      <td>1</td>\n      <td>1</td>\n      <td>Futrelle, Mrs. Jacques Heath (Lily May Peel)</td>\n      <td>female</td>\n      <td>35.0</td>\n      <td>1</td>\n      <td>0</td>\n      <td>113803</td>\n      <td>53.1000</td>\n      <td>C123</td>\n      <td>S</td>\n    </tr>\n    <tr>\n      <th>4</th>\n      <td>5</td>\n      <td>0</td>\n      <td>3</td>\n      <td>Allen, Mr. William Henry</td>\n      <td>male</td>\n      <td>35.0</td>\n      <td>0</td>\n      <td>0</td>\n      <td>373450</td>\n      <td>8.0500</td>\n      <td>NaN</td>\n      <td>S</td>\n    </tr>\n    <tr>\n      <th>...</th>\n      <td>...</td>\n      <td>...</td>\n      <td>...</td>\n      <td>...</td>\n      <td>...</td>\n      <td>...</td>\n      <td>...</td>\n      <td>...</td>\n      <td>...</td>\n      <td>...</td>\n      <td>...</td>\n      <td>...</td>\n    </tr>\n    <tr>\n      <th>886</th>\n      <td>887</td>\n      <td>0</td>\n      <td>2</td>\n      <td>Montvila, Rev. Juozas</td>\n      <td>male</td>\n      <td>27.0</td>\n      <td>0</td>\n      <td>0</td>\n      <td>211536</td>\n      <td>13.0000</td>\n      <td>NaN</td>\n      <td>S</td>\n    </tr>\n    <tr>\n      <th>887</th>\n      <td>888</td>\n      <td>1</td>\n      <td>1</td>\n      <td>Graham, Miss. Margaret Edith</td>\n      <td>female</td>\n      <td>19.0</td>\n      <td>0</td>\n      <td>0</td>\n      <td>112053</td>\n      <td>30.0000</td>\n      <td>B42</td>\n      <td>S</td>\n    </tr>\n    <tr>\n      <th>888</th>\n      <td>889</td>\n      <td>0</td>\n      <td>3</td>\n      <td>Johnston, Miss. Catherine Helen \"Carrie\"</td>\n      <td>female</td>\n      <td>NaN</td>\n      <td>1</td>\n      <td>2</td>\n      <td>W./C. 6607</td>\n      <td>23.4500</td>\n      <td>NaN</td>\n      <td>S</td>\n    </tr>\n    <tr>\n      <th>889</th>\n      <td>890</td>\n      <td>1</td>\n      <td>1</td>\n      <td>Behr, Mr. Karl Howell</td>\n      <td>male</td>\n      <td>26.0</td>\n      <td>0</td>\n      <td>0</td>\n      <td>111369</td>\n      <td>30.0000</td>\n      <td>C148</td>\n      <td>C</td>\n    </tr>\n    <tr>\n      <th>890</th>\n      <td>891</td>\n      <td>0</td>\n      <td>3</td>\n      <td>Dooley, Mr. Patrick</td>\n      <td>male</td>\n      <td>32.0</td>\n      <td>0</td>\n      <td>0</td>\n      <td>370376</td>\n      <td>7.7500</td>\n      <td>NaN</td>\n      <td>Q</td>\n    </tr>\n  </tbody>\n</table>\n<p>891 rows × 12 columns</p>\n</div>"
     },
     "execution_count": 32,
     "metadata": {},
     "output_type": "execute_result"
    }
   ],
   "source": [
    "data"
   ],
   "metadata": {
    "collapsed": false,
    "ExecuteTime": {
     "end_time": "2024-02-20T11:55:45.906210020Z",
     "start_time": "2024-02-20T11:55:45.877066701Z"
    }
   },
   "id": "7def2b043844a16a",
   "execution_count": 32
  },
  {
   "cell_type": "code",
   "outputs": [
    {
     "data": {
      "text/plain": "     PassengerId  Survived  Pclass                                      Name  \\\n886          887         0       2                     Montvila, Rev. Juozas   \n887          888         1       1              Graham, Miss. Margaret Edith   \n888          889         0       3  Johnston, Miss. Catherine Helen \"Carrie\"   \n889          890         1       1                     Behr, Mr. Karl Howell   \n890          891         0       3                       Dooley, Mr. Patrick   \n\n        Sex   Age  SibSp  Parch      Ticket   Fare Cabin Embarked  \n886    male  27.0      0      0      211536  13.00   NaN        S  \n887  female  19.0      0      0      112053  30.00   B42        S  \n888  female   NaN      1      2  W./C. 6607  23.45   NaN        S  \n889    male  26.0      0      0      111369  30.00  C148        C  \n890    male  32.0      0      0      370376   7.75   NaN        Q  ",
      "text/html": "<div>\n<style scoped>\n    .dataframe tbody tr th:only-of-type {\n        vertical-align: middle;\n    }\n\n    .dataframe tbody tr th {\n        vertical-align: top;\n    }\n\n    .dataframe thead th {\n        text-align: right;\n    }\n</style>\n<table border=\"1\" class=\"dataframe\">\n  <thead>\n    <tr style=\"text-align: right;\">\n      <th></th>\n      <th>PassengerId</th>\n      <th>Survived</th>\n      <th>Pclass</th>\n      <th>Name</th>\n      <th>Sex</th>\n      <th>Age</th>\n      <th>SibSp</th>\n      <th>Parch</th>\n      <th>Ticket</th>\n      <th>Fare</th>\n      <th>Cabin</th>\n      <th>Embarked</th>\n    </tr>\n  </thead>\n  <tbody>\n    <tr>\n      <th>886</th>\n      <td>887</td>\n      <td>0</td>\n      <td>2</td>\n      <td>Montvila, Rev. Juozas</td>\n      <td>male</td>\n      <td>27.0</td>\n      <td>0</td>\n      <td>0</td>\n      <td>211536</td>\n      <td>13.00</td>\n      <td>NaN</td>\n      <td>S</td>\n    </tr>\n    <tr>\n      <th>887</th>\n      <td>888</td>\n      <td>1</td>\n      <td>1</td>\n      <td>Graham, Miss. Margaret Edith</td>\n      <td>female</td>\n      <td>19.0</td>\n      <td>0</td>\n      <td>0</td>\n      <td>112053</td>\n      <td>30.00</td>\n      <td>B42</td>\n      <td>S</td>\n    </tr>\n    <tr>\n      <th>888</th>\n      <td>889</td>\n      <td>0</td>\n      <td>3</td>\n      <td>Johnston, Miss. Catherine Helen \"Carrie\"</td>\n      <td>female</td>\n      <td>NaN</td>\n      <td>1</td>\n      <td>2</td>\n      <td>W./C. 6607</td>\n      <td>23.45</td>\n      <td>NaN</td>\n      <td>S</td>\n    </tr>\n    <tr>\n      <th>889</th>\n      <td>890</td>\n      <td>1</td>\n      <td>1</td>\n      <td>Behr, Mr. Karl Howell</td>\n      <td>male</td>\n      <td>26.0</td>\n      <td>0</td>\n      <td>0</td>\n      <td>111369</td>\n      <td>30.00</td>\n      <td>C148</td>\n      <td>C</td>\n    </tr>\n    <tr>\n      <th>890</th>\n      <td>891</td>\n      <td>0</td>\n      <td>3</td>\n      <td>Dooley, Mr. Patrick</td>\n      <td>male</td>\n      <td>32.0</td>\n      <td>0</td>\n      <td>0</td>\n      <td>370376</td>\n      <td>7.75</td>\n      <td>NaN</td>\n      <td>Q</td>\n    </tr>\n  </tbody>\n</table>\n</div>"
     },
     "execution_count": 33,
     "metadata": {},
     "output_type": "execute_result"
    }
   ],
   "source": [
    "data.tail()"
   ],
   "metadata": {
    "collapsed": false,
    "ExecuteTime": {
     "end_time": "2024-02-20T11:55:52.035532498Z",
     "start_time": "2024-02-20T11:55:52.016832949Z"
    }
   },
   "id": "d0b0b45f926c3ddb",
   "execution_count": 33
  },
  {
   "cell_type": "code",
   "outputs": [
    {
     "data": {
      "text/plain": "Index(['PassengerId', 'Survived', 'Pclass', 'Name', 'Sex', 'Age', 'SibSp',\n       'Parch', 'Ticket', 'Fare', 'Cabin', 'Embarked'],\n      dtype='object')"
     },
     "execution_count": 34,
     "metadata": {},
     "output_type": "execute_result"
    }
   ],
   "source": [
    "data.columns"
   ],
   "metadata": {
    "collapsed": false,
    "ExecuteTime": {
     "end_time": "2024-02-20T11:55:58.946074726Z",
     "start_time": "2024-02-20T11:55:58.937003756Z"
    }
   },
   "id": "d8fa1e42f88f6c83",
   "execution_count": 34
  },
  {
   "cell_type": "code",
   "outputs": [
    {
     "data": {
      "text/plain": "array(['Braund, Mr. Owen Harris',\n       'Cumings, Mrs. John Bradley (Florence Briggs Thayer)',\n       'Heikkinen, Miss. Laina',\n       'Futrelle, Mrs. Jacques Heath (Lily May Peel)',\n       'Allen, Mr. William Henry', 'Moran, Mr. James',\n       'McCarthy, Mr. Timothy J', 'Palsson, Master. Gosta Leonard',\n       'Johnson, Mrs. Oscar W (Elisabeth Vilhelmina Berg)',\n       'Nasser, Mrs. Nicholas (Adele Achem)',\n       'Sandstrom, Miss. Marguerite Rut', 'Bonnell, Miss. Elizabeth',\n       'Saundercock, Mr. William Henry', 'Andersson, Mr. Anders Johan',\n       'Vestrom, Miss. Hulda Amanda Adolfina',\n       'Hewlett, Mrs. (Mary D Kingcome) ', 'Rice, Master. Eugene',\n       'Williams, Mr. Charles Eugene',\n       'Vander Planke, Mrs. Julius (Emelia Maria Vandemoortele)',\n       'Masselmani, Mrs. Fatima', 'Fynney, Mr. Joseph J',\n       'Beesley, Mr. Lawrence', 'McGowan, Miss. Anna \"Annie\"',\n       'Sloper, Mr. William Thompson', 'Palsson, Miss. Torborg Danira',\n       'Asplund, Mrs. Carl Oscar (Selma Augusta Emilia Johansson)',\n       'Emir, Mr. Farred Chehab', 'Fortune, Mr. Charles Alexander',\n       'O\\'Dwyer, Miss. Ellen \"Nellie\"', 'Todoroff, Mr. Lalio',\n       'Uruchurtu, Don. Manuel E',\n       'Spencer, Mrs. William Augustus (Marie Eugenie)',\n       'Glynn, Miss. Mary Agatha', 'Wheadon, Mr. Edward H',\n       'Meyer, Mr. Edgar Joseph', 'Holverson, Mr. Alexander Oskar',\n       'Mamee, Mr. Hanna', 'Cann, Mr. Ernest Charles',\n       'Vander Planke, Miss. Augusta Maria',\n       'Nicola-Yarred, Miss. Jamila',\n       'Ahlin, Mrs. Johan (Johanna Persdotter Larsson)',\n       'Turpin, Mrs. William John Robert (Dorothy Ann Wonnacott)',\n       'Kraeff, Mr. Theodor', 'Laroche, Miss. Simonne Marie Anne Andree',\n       'Devaney, Miss. Margaret Delia', 'Rogers, Mr. William John',\n       'Lennon, Mr. Denis', \"O'Driscoll, Miss. Bridget\",\n       'Samaan, Mr. Youssef',\n       'Arnold-Franchi, Mrs. Josef (Josefine Franchi)',\n       'Panula, Master. Juha Niilo', 'Nosworthy, Mr. Richard Cater',\n       'Harper, Mrs. Henry Sleeper (Myna Haxtun)',\n       'Faunthorpe, Mrs. Lizzie (Elizabeth Anne Wilkinson)',\n       'Ostby, Mr. Engelhart Cornelius', 'Woolner, Mr. Hugh',\n       'Rugg, Miss. Emily', 'Novel, Mr. Mansouer',\n       'West, Miss. Constance Mirium',\n       'Goodwin, Master. William Frederick', 'Sirayanian, Mr. Orsen',\n       'Icard, Miss. Amelie', 'Harris, Mr. Henry Birkhardt',\n       'Skoog, Master. Harald', 'Stewart, Mr. Albert A',\n       'Moubarek, Master. Gerios', 'Nye, Mrs. (Elizabeth Ramell)',\n       'Crease, Mr. Ernest James', 'Andersson, Miss. Erna Alexandra',\n       'Kink, Mr. Vincenz', 'Jenkin, Mr. Stephen Curnow',\n       'Goodwin, Miss. Lillian Amy', 'Hood, Mr. Ambrose Jr',\n       'Chronopoulos, Mr. Apostolos', 'Bing, Mr. Lee',\n       'Moen, Mr. Sigurd Hansen', 'Staneff, Mr. Ivan',\n       'Moutal, Mr. Rahamin Haim', 'Caldwell, Master. Alden Gates',\n       'Dowdell, Miss. Elizabeth', 'Waelens, Mr. Achille',\n       'Sheerlinck, Mr. Jan Baptist', 'McDermott, Miss. Brigdet Delia',\n       'Carrau, Mr. Francisco M', 'Ilett, Miss. Bertha',\n       'Backstrom, Mrs. Karl Alfred (Maria Mathilda Gustafsson)',\n       'Ford, Mr. William Neal', 'Slocovski, Mr. Selman Francis',\n       'Fortune, Miss. Mabel Helen', 'Celotti, Mr. Francesco',\n       'Christmann, Mr. Emil', 'Andreasson, Mr. Paul Edvin',\n       'Chaffee, Mr. Herbert Fuller', 'Dean, Mr. Bertram Frank',\n       'Coxon, Mr. Daniel', 'Shorney, Mr. Charles Joseph',\n       'Goldschmidt, Mr. George B', 'Greenfield, Mr. William Bertram',\n       'Doling, Mrs. John T (Ada Julia Bone)', 'Kantor, Mr. Sinai',\n       'Petranec, Miss. Matilda', 'Petroff, Mr. Pastcho (\"Pentcho\")',\n       'White, Mr. Richard Frasar', 'Johansson, Mr. Gustaf Joel',\n       'Gustafsson, Mr. Anders Vilhelm', 'Mionoff, Mr. Stoytcho',\n       'Salkjelsvik, Miss. Anna Kristine', 'Moss, Mr. Albert Johan',\n       'Rekic, Mr. Tido', 'Moran, Miss. Bertha',\n       'Porter, Mr. Walter Chamberlain', 'Zabour, Miss. Hileni',\n       'Barton, Mr. David John', 'Jussila, Miss. Katriina',\n       'Attalah, Miss. Malake', 'Pekoniemi, Mr. Edvard',\n       'Connors, Mr. Patrick', 'Turpin, Mr. William John Robert',\n       'Baxter, Mr. Quigg Edmond', 'Andersson, Miss. Ellis Anna Maria',\n       'Hickman, Mr. Stanley George', 'Moore, Mr. Leonard Charles',\n       'Nasser, Mr. Nicholas', 'Webber, Miss. Susan',\n       'White, Mr. Percival Wayland', 'Nicola-Yarred, Master. Elias',\n       'McMahon, Mr. Martin', 'Madsen, Mr. Fridtjof Arne',\n       'Peter, Miss. Anna', 'Ekstrom, Mr. Johan', 'Drazenoic, Mr. Jozef',\n       'Coelho, Mr. Domingos Fernandeo',\n       'Robins, Mrs. Alexander A (Grace Charity Laury)',\n       'Weisz, Mrs. Leopold (Mathilde Francoise Pede)',\n       'Sobey, Mr. Samuel James Hayden', 'Richard, Mr. Emile',\n       'Newsom, Miss. Helen Monypeny', 'Futrelle, Mr. Jacques Heath',\n       'Osen, Mr. Olaf Elon', 'Giglio, Mr. Victor',\n       'Boulos, Mrs. Joseph (Sultana)', 'Nysten, Miss. Anna Sofia',\n       'Hakkarainen, Mrs. Pekka Pietari (Elin Matilda Dolck)',\n       'Burke, Mr. Jeremiah', 'Andrew, Mr. Edgardo Samuel',\n       'Nicholls, Mr. Joseph Charles',\n       'Andersson, Mr. August Edvard (\"Wennerstrom\")',\n       'Ford, Miss. Robina Maggie \"Ruby\"',\n       'Navratil, Mr. Michel (\"Louis M Hoffman\")',\n       'Byles, Rev. Thomas Roussel Davids', 'Bateman, Rev. Robert James',\n       'Pears, Mrs. Thomas (Edith Wearne)', 'Meo, Mr. Alfonzo',\n       'van Billiard, Mr. Austin Blyler', 'Olsen, Mr. Ole Martin',\n       'Williams, Mr. Charles Duane', 'Gilnagh, Miss. Katherine \"Katie\"',\n       'Corn, Mr. Harry', 'Smiljanic, Mr. Mile',\n       'Sage, Master. Thomas Henry', 'Cribb, Mr. John Hatfield',\n       'Watt, Mrs. James (Elizabeth \"Bessie\" Inglis Milne)',\n       'Bengtsson, Mr. John Viktor', 'Calic, Mr. Jovo',\n       'Panula, Master. Eino Viljami',\n       'Goldsmith, Master. Frank John William \"Frankie\"',\n       'Chibnall, Mrs. (Edith Martha Bowerman)',\n       'Skoog, Mrs. William (Anna Bernhardina Karlsson)',\n       'Baumann, Mr. John D', 'Ling, Mr. Lee',\n       'Van der hoef, Mr. Wyckoff', 'Rice, Master. Arthur',\n       'Johnson, Miss. Eleanor Ileen', 'Sivola, Mr. Antti Wilhelm',\n       'Smith, Mr. James Clinch', 'Klasen, Mr. Klas Albin',\n       'Lefebre, Master. Henry Forbes', 'Isham, Miss. Ann Elizabeth',\n       'Hale, Mr. Reginald', 'Leonard, Mr. Lionel',\n       'Sage, Miss. Constance Gladys', 'Pernot, Mr. Rene',\n       'Asplund, Master. Clarence Gustaf Hugo',\n       'Becker, Master. Richard F', 'Kink-Heilmann, Miss. Luise Gretchen',\n       'Rood, Mr. Hugh Roscoe',\n       'O\\'Brien, Mrs. Thomas (Johanna \"Hannah\" Godfrey)',\n       'Romaine, Mr. Charles Hallace (\"Mr C Rolmane\")',\n       'Bourke, Mr. John', 'Turcin, Mr. Stjepan', 'Pinsky, Mrs. (Rosa)',\n       'Carbines, Mr. William',\n       'Andersen-Jensen, Miss. Carla Christine Nielsine',\n       'Navratil, Master. Michel M',\n       'Brown, Mrs. James Joseph (Margaret Tobin)',\n       'Lurette, Miss. Elise', 'Mernagh, Mr. Robert',\n       'Olsen, Mr. Karl Siegwart Andreas',\n       'Madigan, Miss. Margaret \"Maggie\"',\n       'Yrois, Miss. Henriette (\"Mrs Harbeck\")',\n       'Vande Walle, Mr. Nestor Cyriel', 'Sage, Mr. Frederick',\n       'Johanson, Mr. Jakob Alfred', 'Youseff, Mr. Gerious',\n       'Cohen, Mr. Gurshon \"Gus\"', 'Strom, Miss. Telma Matilda',\n       'Backstrom, Mr. Karl Alfred', 'Albimona, Mr. Nassef Cassem',\n       'Carr, Miss. Helen \"Ellen\"', 'Blank, Mr. Henry', 'Ali, Mr. Ahmed',\n       'Cameron, Miss. Clear Annie', 'Perkin, Mr. John Henry',\n       'Givard, Mr. Hans Kristensen', 'Kiernan, Mr. Philip',\n       'Newell, Miss. Madeleine', 'Honkanen, Miss. Eliina',\n       'Jacobsohn, Mr. Sidney Samuel', 'Bazzani, Miss. Albina',\n       'Harris, Mr. Walter', 'Sunderland, Mr. Victor Francis',\n       'Bracken, Mr. James H', 'Green, Mr. George Henry',\n       'Nenkoff, Mr. Christo', 'Hoyt, Mr. Frederick Maxfield',\n       'Berglund, Mr. Karl Ivar Sven', 'Mellors, Mr. William John',\n       'Lovell, Mr. John Hall (\"Henry\")', 'Fahlstrom, Mr. Arne Jonas',\n       'Lefebre, Miss. Mathilde',\n       'Harris, Mrs. Henry Birkhardt (Irene Wallach)',\n       'Larsson, Mr. Bengt Edvin', 'Sjostedt, Mr. Ernst Adolf',\n       'Asplund, Miss. Lillian Gertrud',\n       'Leyson, Mr. Robert William Norman',\n       'Harknett, Miss. Alice Phoebe', 'Hold, Mr. Stephen',\n       'Collyer, Miss. Marjorie \"Lottie\"',\n       'Pengelly, Mr. Frederick William', 'Hunt, Mr. George Henry',\n       'Zabour, Miss. Thamine', 'Murphy, Miss. Katherine \"Kate\"',\n       'Coleridge, Mr. Reginald Charles', 'Maenpaa, Mr. Matti Alexanteri',\n       'Attalah, Mr. Sleiman', 'Minahan, Dr. William Edward',\n       'Lindahl, Miss. Agda Thorilda Viktoria',\n       'Hamalainen, Mrs. William (Anna)', 'Beckwith, Mr. Richard Leonard',\n       'Carter, Rev. Ernest Courtenay', 'Reed, Mr. James George',\n       'Strom, Mrs. Wilhelm (Elna Matilda Persson)',\n       'Stead, Mr. William Thomas', 'Lobb, Mr. William Arthur',\n       'Rosblom, Mrs. Viktor (Helena Wilhelmina)',\n       'Touma, Mrs. Darwis (Hanne Youssef Razi)',\n       'Thorne, Mrs. Gertrude Maybelle', 'Cherry, Miss. Gladys',\n       'Ward, Miss. Anna', 'Parrish, Mrs. (Lutie Davis)',\n       'Smith, Mr. Thomas', 'Asplund, Master. Edvin Rojj Felix',\n       'Taussig, Mr. Emil', 'Harrison, Mr. William', 'Henry, Miss. Delia',\n       'Reeves, Mr. David', 'Panula, Mr. Ernesti Arvid',\n       'Persson, Mr. Ernst Ulrik',\n       'Graham, Mrs. William Thompson (Edith Junkins)',\n       'Bissette, Miss. Amelia', 'Cairns, Mr. Alexander',\n       'Tornquist, Mr. William Henry',\n       'Mellinger, Mrs. (Elizabeth Anne Maidment)',\n       'Natsch, Mr. Charles H', 'Healy, Miss. Hanora \"Nora\"',\n       'Andrews, Miss. Kornelia Theodosia',\n       'Lindblom, Miss. Augusta Charlotta', 'Parkes, Mr. Francis \"Frank\"',\n       'Rice, Master. Eric', 'Abbott, Mrs. Stanton (Rosa Hunt)',\n       'Duane, Mr. Frank', 'Olsson, Mr. Nils Johan Goransson',\n       'de Pelsmaeker, Mr. Alfons', 'Dorking, Mr. Edward Arthur',\n       'Smith, Mr. Richard William', 'Stankovic, Mr. Ivan',\n       'de Mulder, Mr. Theodore', 'Naidenoff, Mr. Penko',\n       'Hosono, Mr. Masabumi', 'Connolly, Miss. Kate',\n       'Barber, Miss. Ellen \"Nellie\"',\n       'Bishop, Mrs. Dickinson H (Helen Walton)',\n       'Levy, Mr. Rene Jacques', 'Haas, Miss. Aloisia',\n       'Mineff, Mr. Ivan', 'Lewy, Mr. Ervin G', 'Hanna, Mr. Mansour',\n       'Allison, Miss. Helen Loraine', 'Saalfeld, Mr. Adolphe',\n       'Baxter, Mrs. James (Helene DeLaudeniere Chaput)',\n       'Kelly, Miss. Anna Katherine \"Annie Kate\"', 'McCoy, Mr. Bernard',\n       'Johnson, Mr. William Cahoone Jr', 'Keane, Miss. Nora A',\n       'Williams, Mr. Howard Hugh \"Harry\"',\n       'Allison, Master. Hudson Trevor', 'Fleming, Miss. Margaret',\n       'Penasco y Castellana, Mrs. Victor de Satode (Maria Josefa Perez de Soto y Vallejo)',\n       'Abelson, Mr. Samuel', 'Francatelli, Miss. Laura Mabel',\n       'Hays, Miss. Margaret Bechstein', 'Ryerson, Miss. Emily Borie',\n       'Lahtinen, Mrs. William (Anna Sylfven)', 'Hendekovic, Mr. Ignjac',\n       'Hart, Mr. Benjamin', 'Nilsson, Miss. Helmina Josefina',\n       'Kantor, Mrs. Sinai (Miriam Sternin)', 'Moraweck, Dr. Ernest',\n       'Wick, Miss. Mary Natalie',\n       'Spedden, Mrs. Frederic Oakley (Margaretta Corning Stone)',\n       'Dennis, Mr. Samuel', 'Danoff, Mr. Yoto',\n       'Slayter, Miss. Hilda Mary',\n       'Caldwell, Mrs. Albert Francis (Sylvia Mae Harbaugh)',\n       'Sage, Mr. George John Jr', 'Young, Miss. Marie Grice',\n       'Nysveen, Mr. Johan Hansen', 'Ball, Mrs. (Ada E Hall)',\n       'Goldsmith, Mrs. Frank John (Emily Alice Brown)',\n       'Hippach, Miss. Jean Gertrude', 'McCoy, Miss. Agnes',\n       'Partner, Mr. Austen', 'Graham, Mr. George Edward',\n       'Vander Planke, Mr. Leo Edmondus',\n       'Frauenthal, Mrs. Henry William (Clara Heinsheimer)',\n       'Denkoff, Mr. Mitto', 'Pears, Mr. Thomas Clinton',\n       'Burns, Miss. Elizabeth Margaret', 'Dahl, Mr. Karl Edwart',\n       'Blackwell, Mr. Stephen Weart', 'Navratil, Master. Edmond Roger',\n       'Fortune, Miss. Alice Elizabeth', 'Collander, Mr. Erik Gustaf',\n       'Sedgwick, Mr. Charles Frederick Waddington',\n       'Fox, Mr. Stanley Hubert', 'Brown, Miss. Amelia \"Mildred\"',\n       'Smith, Miss. Marion Elsie',\n       'Davison, Mrs. Thomas Henry (Mary E Finck)',\n       'Coutts, Master. William Loch \"William\"', 'Dimic, Mr. Jovan',\n       'Odahl, Mr. Nils Martin', 'Williams-Lambert, Mr. Fletcher Fellows',\n       'Elias, Mr. Tannous', 'Arnold-Franchi, Mr. Josef',\n       'Yousif, Mr. Wazli', 'Vanden Steen, Mr. Leo Peter',\n       'Bowerman, Miss. Elsie Edith', 'Funk, Miss. Annie Clemmer',\n       'McGovern, Miss. Mary', 'Mockler, Miss. Helen Mary \"Ellie\"',\n       'Skoog, Mr. Wilhelm', 'del Carlo, Mr. Sebastiano',\n       'Barbara, Mrs. (Catherine David)', 'Asim, Mr. Adola',\n       \"O'Brien, Mr. Thomas\", 'Adahl, Mr. Mauritz Nils Martin',\n       'Warren, Mrs. Frank Manley (Anna Sophia Atkinson)',\n       'Moussa, Mrs. (Mantoura Boulos)', 'Jermyn, Miss. Annie',\n       'Aubart, Mme. Leontine Pauline', 'Harder, Mr. George Achilles',\n       'Wiklund, Mr. Jakob Alfred', 'Beavan, Mr. William Thomas',\n       'Ringhini, Mr. Sante', 'Palsson, Miss. Stina Viola',\n       'Meyer, Mrs. Edgar Joseph (Leila Saks)',\n       'Landergren, Miss. Aurora Adelia', 'Widener, Mr. Harry Elkins',\n       'Betros, Mr. Tannous', 'Gustafsson, Mr. Karl Gideon',\n       'Bidois, Miss. Rosalie', 'Nakid, Miss. Maria (\"Mary\")',\n       'Tikkanen, Mr. Juho',\n       'Holverson, Mrs. Alexander Oskar (Mary Aline Towner)',\n       'Plotcharsky, Mr. Vasil', 'Davies, Mr. Charles Henry',\n       'Goodwin, Master. Sidney Leonard', 'Buss, Miss. Kate',\n       'Sadlier, Mr. Matthew', 'Lehmann, Miss. Bertha',\n       'Carter, Mr. William Ernest', 'Jansson, Mr. Carl Olof',\n       'Gustafsson, Mr. Johan Birger', 'Newell, Miss. Marjorie',\n       'Sandstrom, Mrs. Hjalmar (Agnes Charlotta Bengtsson)',\n       'Johansson, Mr. Erik', 'Olsson, Miss. Elina',\n       'McKane, Mr. Peter David', 'Pain, Dr. Alfred',\n       'Trout, Mrs. William H (Jessie L)', 'Niskanen, Mr. Juha',\n       'Adams, Mr. John', 'Jussila, Miss. Mari Aina',\n       'Hakkarainen, Mr. Pekka Pietari', 'Oreskovic, Miss. Marija',\n       'Gale, Mr. Shadrach', 'Widegren, Mr. Carl/Charles Peter',\n       'Richards, Master. William Rowe',\n       'Birkeland, Mr. Hans Martin Monsen', 'Lefebre, Miss. Ida',\n       'Sdycoff, Mr. Todor', 'Hart, Mr. Henry', 'Minahan, Miss. Daisy E',\n       'Cunningham, Mr. Alfred Fleming', 'Sundman, Mr. Johan Julian',\n       'Meek, Mrs. Thomas (Annie Louise Rowley)',\n       'Drew, Mrs. James Vivian (Lulu Thorne Christian)',\n       'Silven, Miss. Lyyli Karoliina', 'Matthews, Mr. William John',\n       'Van Impe, Miss. Catharina', 'Gheorgheff, Mr. Stanio',\n       'Charters, Mr. David', 'Zimmerman, Mr. Leo',\n       'Danbom, Mrs. Ernst Gilbert (Anna Sigrid Maria Brogren)',\n       'Rosblom, Mr. Viktor Richard', 'Wiseman, Mr. Phillippe',\n       'Clarke, Mrs. Charles V (Ada Maria Winfield)',\n       'Phillips, Miss. Kate Florence (\"Mrs Kate Louise Phillips Marshall\")',\n       'Flynn, Mr. James', 'Pickard, Mr. Berk (Berk Trembisky)',\n       'Bjornstrom-Steffansson, Mr. Mauritz Hakan',\n       'Thorneycroft, Mrs. Percival (Florence Kate White)',\n       'Louch, Mrs. Charles Alexander (Alice Adelaide Slow)',\n       'Kallio, Mr. Nikolai Erland', 'Silvey, Mr. William Baird',\n       'Carter, Miss. Lucile Polk',\n       'Ford, Miss. Doolina Margaret \"Daisy\"',\n       'Richards, Mrs. Sidney (Emily Hocking)', 'Fortune, Mr. Mark',\n       'Kvillner, Mr. Johan Henrik Johannesson',\n       'Hart, Mrs. Benjamin (Esther Ada Bloomfield)', 'Hampe, Mr. Leon',\n       'Petterson, Mr. Johan Emil', 'Reynaldo, Ms. Encarnacion',\n       'Johannesen-Bratthammer, Mr. Bernt', 'Dodge, Master. Washington',\n       'Mellinger, Miss. Madeleine Violet', 'Seward, Mr. Frederic Kimber',\n       'Baclini, Miss. Marie Catherine', 'Peuchen, Major. Arthur Godfrey',\n       'West, Mr. Edwy Arthur', 'Hagland, Mr. Ingvald Olai Olsen',\n       'Foreman, Mr. Benjamin Laventall', 'Goldenberg, Mr. Samuel L',\n       'Peduzzi, Mr. Joseph', 'Jalsevac, Mr. Ivan',\n       'Millet, Mr. Francis Davis', 'Kenyon, Mrs. Frederick R (Marion)',\n       'Toomey, Miss. Ellen', \"O'Connor, Mr. Maurice\",\n       'Anderson, Mr. Harry', 'Morley, Mr. William', 'Gee, Mr. Arthur H',\n       'Milling, Mr. Jacob Christian', 'Maisner, Mr. Simon',\n       'Goncalves, Mr. Manuel Estanslas', 'Campbell, Mr. William',\n       'Smart, Mr. John Montgomery', 'Scanlan, Mr. James',\n       'Baclini, Miss. Helene Barbara', 'Keefe, Mr. Arthur',\n       'Cacic, Mr. Luka', 'West, Mrs. Edwy Arthur (Ada Mary Worth)',\n       'Jerwan, Mrs. Amin S (Marie Marthe Thuillard)',\n       'Strandberg, Miss. Ida Sofia', 'Clifford, Mr. George Quincy',\n       'Renouf, Mr. Peter Henry', 'Braund, Mr. Lewis Richard',\n       'Karlsson, Mr. Nils August', 'Hirvonen, Miss. Hildur E',\n       'Goodwin, Master. Harold Victor',\n       'Frost, Mr. Anthony Wood \"Archie\"', 'Rouse, Mr. Richard Henry',\n       'Turkula, Mrs. (Hedwig)', 'Bishop, Mr. Dickinson H',\n       'Lefebre, Miss. Jeannie',\n       'Hoyt, Mrs. Frederick Maxfield (Jane Anne Forby)',\n       'Kent, Mr. Edward Austin', 'Somerton, Mr. Francis William',\n       'Coutts, Master. Eden Leslie \"Neville\"',\n       'Hagland, Mr. Konrad Mathias Reiersen', 'Windelov, Mr. Einar',\n       'Molson, Mr. Harry Markland', 'Artagaveytia, Mr. Ramon',\n       'Stanley, Mr. Edward Roland', 'Yousseff, Mr. Gerious',\n       'Eustis, Miss. Elizabeth Mussey',\n       'Shellard, Mr. Frederick William',\n       'Allison, Mrs. Hudson J C (Bessie Waldo Daniels)',\n       'Svensson, Mr. Olof', 'Calic, Mr. Petar', 'Canavan, Miss. Mary',\n       \"O'Sullivan, Miss. Bridget Mary\", 'Laitinen, Miss. Kristina Sofia',\n       'Maioni, Miss. Roberta',\n       'Penasco y Castellana, Mr. Victor de Satode',\n       'Quick, Mrs. Frederick Charles (Jane Richards)',\n       'Bradley, Mr. George (\"George Arthur Brayton\")',\n       'Olsen, Mr. Henry Margido', 'Lang, Mr. Fang',\n       'Daly, Mr. Eugene Patrick', 'Webber, Mr. James',\n       'McGough, Mr. James Robert',\n       'Rothschild, Mrs. Martin (Elizabeth L. Barrett)',\n       'Coleff, Mr. Satio', 'Walker, Mr. William Anderson',\n       'Lemore, Mrs. (Amelia Milley)', 'Ryan, Mr. Patrick',\n       'Angle, Mrs. William A (Florence \"Mary\" Agnes Hughes)',\n       'Pavlovic, Mr. Stefo', 'Perreault, Miss. Anne', 'Vovk, Mr. Janko',\n       'Lahoud, Mr. Sarkis',\n       'Hippach, Mrs. Louis Albert (Ida Sophia Fischer)',\n       'Kassem, Mr. Fared', 'Farrell, Mr. James', 'Ridsdale, Miss. Lucy',\n       'Farthing, Mr. John', 'Salonen, Mr. Johan Werner',\n       'Hocking, Mr. Richard George', 'Quick, Miss. Phyllis May',\n       'Toufik, Mr. Nakli', 'Elias, Mr. Joseph Jr',\n       'Peter, Mrs. Catherine (Catherine Rizk)', 'Cacic, Miss. Marija',\n       'Hart, Miss. Eva Miriam', 'Butt, Major. Archibald Willingham',\n       'LeRoy, Miss. Bertha', 'Risien, Mr. Samuel Beard',\n       'Frolicher, Miss. Hedwig Margaritha', 'Crosby, Miss. Harriet R',\n       'Andersson, Miss. Ingeborg Constanzia',\n       'Andersson, Miss. Sigrid Elisabeth', 'Beane, Mr. Edward',\n       'Douglas, Mr. Walter Donald', 'Nicholson, Mr. Arthur Ernest',\n       'Beane, Mrs. Edward (Ethel Clarke)', 'Padro y Manent, Mr. Julian',\n       'Goldsmith, Mr. Frank John', 'Davies, Master. John Morgan Jr',\n       'Thayer, Mr. John Borland Jr', 'Sharp, Mr. Percival James R',\n       \"O'Brien, Mr. Timothy\", 'Leeni, Mr. Fahim (\"Philip Zenni\")',\n       'Ohman, Miss. Velin', 'Wright, Mr. George',\n       'Duff Gordon, Lady. (Lucille Christiana Sutherland) (\"Mrs Morgan\")',\n       'Robbins, Mr. Victor', 'Taussig, Mrs. Emil (Tillie Mandelbaum)',\n       'de Messemaeker, Mrs. Guillaume Joseph (Emma)',\n       'Morrow, Mr. Thomas Rowan', 'Sivic, Mr. Husein',\n       'Norman, Mr. Robert Douglas', 'Simmons, Mr. John',\n       'Meanwell, Miss. (Marion Ogden)', 'Davies, Mr. Alfred J',\n       'Stoytcheff, Mr. Ilia',\n       'Palsson, Mrs. Nils (Alma Cornelia Berglund)',\n       'Doharr, Mr. Tannous', 'Jonsson, Mr. Carl', 'Harris, Mr. George',\n       'Appleton, Mrs. Edward Dale (Charlotte Lamson)',\n       'Flynn, Mr. John Irwin (\"Irving\")', 'Kelly, Miss. Mary',\n       'Rush, Mr. Alfred George John', 'Patchett, Mr. George',\n       'Garside, Miss. Ethel',\n       'Silvey, Mrs. William Baird (Alice Munger)',\n       'Caram, Mrs. Joseph (Maria Elias)', 'Jussila, Mr. Eiriik',\n       'Christy, Miss. Julie Rachel',\n       'Thayer, Mrs. John Borland (Marian Longstreth Morris)',\n       'Downton, Mr. William James', 'Ross, Mr. John Hugo',\n       'Paulner, Mr. Uscher', 'Taussig, Miss. Ruth',\n       'Jarvis, Mr. John Denzil', 'Frolicher-Stehli, Mr. Maxmillian',\n       'Gilinski, Mr. Eliezer', 'Murdlin, Mr. Joseph',\n       'Rintamaki, Mr. Matti',\n       'Stephenson, Mrs. Walter Bertram (Martha Eustis)',\n       'Elsbury, Mr. William James', 'Bourke, Miss. Mary',\n       'Chapman, Mr. John Henry', 'Van Impe, Mr. Jean Baptiste',\n       'Leitch, Miss. Jessie Wills', 'Johnson, Mr. Alfred',\n       'Boulos, Mr. Hanna',\n       'Duff Gordon, Sir. Cosmo Edmund (\"Mr Morgan\")',\n       'Jacobsohn, Mrs. Sidney Samuel (Amy Frances Christy)',\n       'Slabenoff, Mr. Petco', 'Harrington, Mr. Charles H',\n       'Torber, Mr. Ernst William', 'Homer, Mr. Harry (\"Mr E Haven\")',\n       'Lindell, Mr. Edvard Bengtsson', 'Karaic, Mr. Milan',\n       'Daniel, Mr. Robert Williams',\n       'Laroche, Mrs. Joseph (Juliette Marie Louise Lafargue)',\n       'Shutes, Miss. Elizabeth W',\n       'Andersson, Mrs. Anders Johan (Alfrida Konstantia Brogren)',\n       'Jardin, Mr. Jose Neto', 'Murphy, Miss. Margaret Jane',\n       'Horgan, Mr. John', 'Brocklebank, Mr. William Alfred',\n       'Herman, Miss. Alice', 'Danbom, Mr. Ernst Gilbert',\n       'Lobb, Mrs. William Arthur (Cordelia K Stanlick)',\n       'Becker, Miss. Marion Louise', 'Gavey, Mr. Lawrence',\n       'Yasbeck, Mr. Antoni', 'Kimball, Mr. Edwin Nelson Jr',\n       'Nakid, Mr. Sahid', 'Hansen, Mr. Henry Damsgaard',\n       'Bowen, Mr. David John \"Dai\"', 'Sutton, Mr. Frederick',\n       'Kirkland, Rev. Charles Leonard', 'Longley, Miss. Gretchen Fiske',\n       'Bostandyeff, Mr. Guentcho', \"O'Connell, Mr. Patrick D\",\n       'Barkworth, Mr. Algernon Henry Wilson',\n       'Lundahl, Mr. Johan Svensson', 'Stahelin-Maeglin, Dr. Max',\n       'Parr, Mr. William Henry Marsh', 'Skoog, Miss. Mabel',\n       'Davis, Miss. Mary', 'Leinonen, Mr. Antti Gustaf',\n       'Collyer, Mr. Harvey', 'Panula, Mrs. Juha (Maria Emilia Ojala)',\n       'Thorneycroft, Mr. Percival', 'Jensen, Mr. Hans Peder',\n       'Sagesser, Mlle. Emma', 'Skoog, Miss. Margit Elizabeth',\n       'Foo, Mr. Choong', 'Baclini, Miss. Eugenie',\n       'Harper, Mr. Henry Sleeper', 'Cor, Mr. Liudevit',\n       'Simonius-Blumer, Col. Oberst Alfons', 'Willey, Mr. Edward',\n       'Stanley, Miss. Amy Zillah Elsie', 'Mitkoff, Mr. Mito',\n       'Doling, Miss. Elsie', 'Kalvik, Mr. Johannes Halvorsen',\n       'O\\'Leary, Miss. Hanora \"Norah\"', 'Hegarty, Miss. Hanora \"Nora\"',\n       'Hickman, Mr. Leonard Mark', 'Radeff, Mr. Alexander',\n       'Bourke, Mrs. John (Catherine)', 'Eitemiller, Mr. George Floyd',\n       'Newell, Mr. Arthur Webster', 'Frauenthal, Dr. Henry William',\n       'Badt, Mr. Mohamed', 'Colley, Mr. Edward Pomeroy',\n       'Coleff, Mr. Peju', 'Lindqvist, Mr. Eino William',\n       'Hickman, Mr. Lewis', 'Butler, Mr. Reginald Fenton',\n       'Rommetvedt, Mr. Knud Paust', 'Cook, Mr. Jacob',\n       'Taylor, Mrs. Elmer Zebley (Juliet Cummins Wright)',\n       'Brown, Mrs. Thomas William Solomon (Elizabeth Catherine Ford)',\n       'Davidson, Mr. Thornton', 'Mitchell, Mr. Henry Michael',\n       'Wilhelms, Mr. Charles', 'Watson, Mr. Ennis Hastings',\n       'Edvardsson, Mr. Gustaf Hjalmar', 'Sawyer, Mr. Frederick Charles',\n       'Turja, Miss. Anna Sofia',\n       'Goodwin, Mrs. Frederick (Augusta Tyler)',\n       'Cardeza, Mr. Thomas Drake Martinez', 'Peters, Miss. Katie',\n       'Hassab, Mr. Hammad', 'Olsvigen, Mr. Thor Anderson',\n       'Goodwin, Mr. Charles Edward', 'Brown, Mr. Thomas William Solomon',\n       'Laroche, Mr. Joseph Philippe Lemercier',\n       'Panula, Mr. Jaako Arnold', 'Dakic, Mr. Branko',\n       'Fischer, Mr. Eberhard Thelander',\n       'Madill, Miss. Georgette Alexandra', 'Dick, Mr. Albert Adrian',\n       'Karun, Miss. Manca', 'Lam, Mr. Ali', 'Saad, Mr. Khalil',\n       'Weir, Col. John', 'Chapman, Mr. Charles Henry',\n       'Kelly, Mr. James', 'Mullens, Miss. Katherine \"Katie\"',\n       'Thayer, Mr. John Borland',\n       'Humblen, Mr. Adolf Mathias Nicolai Olsen',\n       'Astor, Mrs. John Jacob (Madeleine Talmadge Force)',\n       'Silverthorne, Mr. Spencer Victor', 'Barbara, Miss. Saiide',\n       'Gallagher, Mr. Martin', 'Hansen, Mr. Henrik Juul',\n       'Morley, Mr. Henry Samuel (\"Mr Henry Marshall\")',\n       'Kelly, Mrs. Florence \"Fannie\"',\n       'Calderhead, Mr. Edward Pennington', 'Cleaver, Miss. Alice',\n       'Moubarek, Master. Halim Gonios (\"William George\")',\n       'Mayne, Mlle. Berthe Antonine (\"Mrs de Villiers\")',\n       'Klaber, Mr. Herman', 'Taylor, Mr. Elmer Zebley',\n       'Larsson, Mr. August Viktor', 'Greenberg, Mr. Samuel',\n       'Soholt, Mr. Peter Andreas Lauritz Andersen',\n       'Endres, Miss. Caroline Louise',\n       'Troutt, Miss. Edwina Celia \"Winnie\"', 'McEvoy, Mr. Michael',\n       'Johnson, Mr. Malkolm Joackim',\n       'Harper, Miss. Annie Jessie \"Nina\"', 'Jensen, Mr. Svend Lauritz',\n       'Gillespie, Mr. William Henry', 'Hodges, Mr. Henry Price',\n       'Chambers, Mr. Norman Campbell', 'Oreskovic, Mr. Luka',\n       'Renouf, Mrs. Peter Henry (Lillian Jefferys)',\n       'Mannion, Miss. Margareth', 'Bryhl, Mr. Kurt Arnold Gottfrid',\n       'Ilmakangas, Miss. Pieta Sofia', 'Allen, Miss. Elisabeth Walton',\n       'Hassan, Mr. Houssein G N', 'Knight, Mr. Robert J',\n       'Berriman, Mr. William John', 'Troupiansky, Mr. Moses Aaron',\n       'Williams, Mr. Leslie', 'Ford, Mrs. Edward (Margaret Ann Watson)',\n       'Lesurer, Mr. Gustave J', 'Ivanoff, Mr. Kanio',\n       'Nankoff, Mr. Minko', 'Hawksford, Mr. Walter James',\n       'Cavendish, Mr. Tyrell William',\n       'Ryerson, Miss. Susan Parker \"Suzette\"', 'McNamee, Mr. Neal',\n       'Stranden, Mr. Juho', 'Crosby, Capt. Edward Gifford',\n       'Abbott, Mr. Rossmore Edward', 'Sinkkonen, Miss. Anna',\n       'Marvin, Mr. Daniel Warner', 'Connaghton, Mr. Michael',\n       'Wells, Miss. Joan', 'Moor, Master. Meier',\n       'Vande Velde, Mr. Johannes Joseph', 'Jonkoff, Mr. Lalio',\n       'Herman, Mrs. Samuel (Jane Laver)', 'Hamalainen, Master. Viljo',\n       'Carlsson, Mr. August Sigfrid', 'Bailey, Mr. Percy Andrew',\n       'Theobald, Mr. Thomas Leonard',\n       'Rothes, the Countess. of (Lucy Noel Martha Dyer-Edwards)',\n       'Garfirth, Mr. John', 'Nirva, Mr. Iisakki Antino Aijo',\n       'Barah, Mr. Hanna Assi',\n       'Carter, Mrs. William Ernest (Lucile Polk)',\n       'Eklund, Mr. Hans Linus', 'Hogeboom, Mrs. John C (Anna Andrews)',\n       'Brewe, Dr. Arthur Jackson', 'Mangan, Miss. Mary',\n       'Moran, Mr. Daniel J', 'Gronnestad, Mr. Daniel Danielsen',\n       'Lievens, Mr. Rene Aime', 'Jensen, Mr. Niels Peder',\n       'Mack, Mrs. (Mary)', 'Elias, Mr. Dibo',\n       'Hocking, Mrs. Elizabeth (Eliza Needs)',\n       'Myhrman, Mr. Pehr Fabian Oliver Malkolm', 'Tobin, Mr. Roger',\n       'Emanuel, Miss. Virginia Ethel', 'Kilgannon, Mr. Thomas J',\n       'Robert, Mrs. Edward Scott (Elisabeth Walton McMillan)',\n       'Ayoub, Miss. Banoura',\n       'Dick, Mrs. Albert Adrian (Vera Gillespie)',\n       'Long, Mr. Milton Clyde', 'Johnston, Mr. Andrew G',\n       'Ali, Mr. William', 'Harmer, Mr. Abraham (David Lishin)',\n       'Sjoblom, Miss. Anna Sofia', 'Rice, Master. George Hugh',\n       'Dean, Master. Bertram Vere', 'Guggenheim, Mr. Benjamin',\n       'Keane, Mr. Andrew \"Andy\"', 'Gaskell, Mr. Alfred',\n       'Sage, Miss. Stella Anna', 'Hoyt, Mr. William Fisher',\n       'Dantcheff, Mr. Ristiu', 'Otter, Mr. Richard',\n       'Leader, Dr. Alice (Farnham)', 'Osman, Mrs. Mara',\n       'Ibrahim Shawah, Mr. Yousseff',\n       'Van Impe, Mrs. Jean Baptiste (Rosalie Paula Govaert)',\n       'Ponesell, Mr. Martin',\n       'Collyer, Mrs. Harvey (Charlotte Annie Tate)',\n       'Carter, Master. William Thornton II',\n       'Thomas, Master. Assad Alexander', 'Hedman, Mr. Oskar Arvid',\n       'Johansson, Mr. Karl Johan', 'Andrews, Mr. Thomas Jr',\n       'Pettersson, Miss. Ellen Natalia', 'Meyer, Mr. August',\n       'Chambers, Mrs. Norman Campbell (Bertha Griggs)',\n       'Alexander, Mr. William', 'Lester, Mr. James',\n       'Slemen, Mr. Richard James', 'Andersson, Miss. Ebba Iris Alfrida',\n       'Tomlin, Mr. Ernest Portage', 'Fry, Mr. Richard',\n       'Heininen, Miss. Wendla Maria', 'Mallet, Mr. Albert',\n       'Holm, Mr. John Fredrik Alexander', 'Skoog, Master. Karl Thorsten',\n       'Hays, Mrs. Charles Melville (Clara Jennings Gregg)',\n       'Lulic, Mr. Nikola', 'Reuchlin, Jonkheer. John George',\n       'Moor, Mrs. (Beila)', 'Panula, Master. Urho Abraham',\n       'Flynn, Mr. John', 'Lam, Mr. Len', 'Mallet, Master. Andre',\n       'McCormack, Mr. Thomas Joseph',\n       'Stone, Mrs. George Nelson (Martha Evelyn)',\n       'Yasbeck, Mrs. Antoni (Selini Alexander)',\n       'Richards, Master. George Sibley', 'Saad, Mr. Amin',\n       'Augustsson, Mr. Albert', 'Allum, Mr. Owen George',\n       'Compton, Miss. Sara Rebecca', 'Pasic, Mr. Jakob',\n       'Sirota, Mr. Maurice', 'Chip, Mr. Chang', 'Marechal, Mr. Pierre',\n       'Alhomaki, Mr. Ilmari Rudolf', 'Mudd, Mr. Thomas Charles',\n       'Serepeca, Miss. Augusta', 'Lemberopolous, Mr. Peter L',\n       'Culumovic, Mr. Jeso', 'Abbing, Mr. Anthony',\n       'Sage, Mr. Douglas Bullen', 'Markoff, Mr. Marin',\n       'Harper, Rev. John',\n       'Goldenberg, Mrs. Samuel L (Edwiga Grabowska)',\n       'Andersson, Master. Sigvard Harald Elias', 'Svensson, Mr. Johan',\n       'Boulos, Miss. Nourelain', 'Lines, Miss. Mary Conover',\n       'Carter, Mrs. Ernest Courtenay (Lilian Hughes)',\n       'Aks, Mrs. Sam (Leah Rosen)',\n       'Wick, Mrs. George Dennick (Mary Hitchcock)',\n       'Daly, Mr. Peter Denis ', 'Baclini, Mrs. Solomon (Latifa Qurban)',\n       'Razi, Mr. Raihed', 'Hansen, Mr. Claus Peter',\n       'Giles, Mr. Frederick Edward',\n       'Swift, Mrs. Frederick Joel (Margaret Welles Barron)',\n       'Sage, Miss. Dorothy Edith \"Dolly\"', 'Gill, Mr. John William',\n       'Bystrom, Mrs. (Karolina)', 'Duran y More, Miss. Asuncion',\n       'Roebling, Mr. Washington Augustus II',\n       'van Melkebeke, Mr. Philemon', 'Johnson, Master. Harold Theodor',\n       'Balkic, Mr. Cerin',\n       'Beckwith, Mrs. Richard Leonard (Sallie Monypeny)',\n       'Carlsson, Mr. Frans Olof', 'Vander Cruyssen, Mr. Victor',\n       'Abelson, Mrs. Samuel (Hannah Wizosky)',\n       'Najib, Miss. Adele Kiamie \"Jane\"',\n       'Gustafsson, Mr. Alfred Ossian', 'Petroff, Mr. Nedelio',\n       'Laleff, Mr. Kristo',\n       'Potter, Mrs. Thomas Jr (Lily Alexenia Wilson)',\n       'Shelley, Mrs. William (Imanita Parrish Hall)',\n       'Markun, Mr. Johann', 'Dahlberg, Miss. Gerda Ulrika',\n       'Banfield, Mr. Frederick James', 'Sutehall, Mr. Henry Jr',\n       'Rice, Mrs. William (Margaret Norton)', 'Montvila, Rev. Juozas',\n       'Graham, Miss. Margaret Edith',\n       'Johnston, Miss. Catherine Helen \"Carrie\"',\n       'Behr, Mr. Karl Howell', 'Dooley, Mr. Patrick'], dtype=object)"
     },
     "execution_count": 35,
     "metadata": {},
     "output_type": "execute_result"
    }
   ],
   "source": [
    "data['Name'].values"
   ],
   "metadata": {
    "collapsed": false,
    "ExecuteTime": {
     "end_time": "2024-02-20T11:56:05.177008518Z",
     "start_time": "2024-02-20T11:56:05.152482508Z"
    }
   },
   "id": "af725de7cfe29105",
   "execution_count": 35
  },
  {
   "cell_type": "code",
   "outputs": [
    {
     "data": {
      "text/plain": "array(['Braund, Mr. Owen Harris',\n       'Cumings, Mrs. John Bradley (Florence Briggs Thayer)',\n       'Heikkinen, Miss. Laina',\n       'Futrelle, Mrs. Jacques Heath (Lily May Peel)',\n       'Allen, Mr. William Henry', 'Moran, Mr. James',\n       'McCarthy, Mr. Timothy J', 'Palsson, Master. Gosta Leonard',\n       'Johnson, Mrs. Oscar W (Elisabeth Vilhelmina Berg)',\n       'Nasser, Mrs. Nicholas (Adele Achem)',\n       'Sandstrom, Miss. Marguerite Rut', 'Bonnell, Miss. Elizabeth',\n       'Saundercock, Mr. William Henry', 'Andersson, Mr. Anders Johan',\n       'Vestrom, Miss. Hulda Amanda Adolfina',\n       'Hewlett, Mrs. (Mary D Kingcome) ', 'Rice, Master. Eugene',\n       'Williams, Mr. Charles Eugene',\n       'Vander Planke, Mrs. Julius (Emelia Maria Vandemoortele)',\n       'Masselmani, Mrs. Fatima', 'Fynney, Mr. Joseph J',\n       'Beesley, Mr. Lawrence', 'McGowan, Miss. Anna \"Annie\"',\n       'Sloper, Mr. William Thompson', 'Palsson, Miss. Torborg Danira',\n       'Asplund, Mrs. Carl Oscar (Selma Augusta Emilia Johansson)',\n       'Emir, Mr. Farred Chehab', 'Fortune, Mr. Charles Alexander',\n       'O\\'Dwyer, Miss. Ellen \"Nellie\"', 'Todoroff, Mr. Lalio',\n       'Uruchurtu, Don. Manuel E',\n       'Spencer, Mrs. William Augustus (Marie Eugenie)',\n       'Glynn, Miss. Mary Agatha', 'Wheadon, Mr. Edward H',\n       'Meyer, Mr. Edgar Joseph', 'Holverson, Mr. Alexander Oskar',\n       'Mamee, Mr. Hanna', 'Cann, Mr. Ernest Charles',\n       'Vander Planke, Miss. Augusta Maria',\n       'Nicola-Yarred, Miss. Jamila',\n       'Ahlin, Mrs. Johan (Johanna Persdotter Larsson)',\n       'Turpin, Mrs. William John Robert (Dorothy Ann Wonnacott)',\n       'Kraeff, Mr. Theodor', 'Laroche, Miss. Simonne Marie Anne Andree',\n       'Devaney, Miss. Margaret Delia', 'Rogers, Mr. William John',\n       'Lennon, Mr. Denis', \"O'Driscoll, Miss. Bridget\",\n       'Samaan, Mr. Youssef',\n       'Arnold-Franchi, Mrs. Josef (Josefine Franchi)',\n       'Panula, Master. Juha Niilo', 'Nosworthy, Mr. Richard Cater',\n       'Harper, Mrs. Henry Sleeper (Myna Haxtun)',\n       'Faunthorpe, Mrs. Lizzie (Elizabeth Anne Wilkinson)',\n       'Ostby, Mr. Engelhart Cornelius', 'Woolner, Mr. Hugh',\n       'Rugg, Miss. Emily', 'Novel, Mr. Mansouer',\n       'West, Miss. Constance Mirium',\n       'Goodwin, Master. William Frederick', 'Sirayanian, Mr. Orsen',\n       'Icard, Miss. Amelie', 'Harris, Mr. Henry Birkhardt',\n       'Skoog, Master. Harald', 'Stewart, Mr. Albert A',\n       'Moubarek, Master. Gerios', 'Nye, Mrs. (Elizabeth Ramell)',\n       'Crease, Mr. Ernest James', 'Andersson, Miss. Erna Alexandra',\n       'Kink, Mr. Vincenz', 'Jenkin, Mr. Stephen Curnow',\n       'Goodwin, Miss. Lillian Amy', 'Hood, Mr. Ambrose Jr',\n       'Chronopoulos, Mr. Apostolos', 'Bing, Mr. Lee',\n       'Moen, Mr. Sigurd Hansen', 'Staneff, Mr. Ivan',\n       'Moutal, Mr. Rahamin Haim', 'Caldwell, Master. Alden Gates',\n       'Dowdell, Miss. Elizabeth', 'Waelens, Mr. Achille',\n       'Sheerlinck, Mr. Jan Baptist', 'McDermott, Miss. Brigdet Delia',\n       'Carrau, Mr. Francisco M', 'Ilett, Miss. Bertha',\n       'Backstrom, Mrs. Karl Alfred (Maria Mathilda Gustafsson)',\n       'Ford, Mr. William Neal', 'Slocovski, Mr. Selman Francis',\n       'Fortune, Miss. Mabel Helen', 'Celotti, Mr. Francesco',\n       'Christmann, Mr. Emil', 'Andreasson, Mr. Paul Edvin',\n       'Chaffee, Mr. Herbert Fuller', 'Dean, Mr. Bertram Frank',\n       'Coxon, Mr. Daniel', 'Shorney, Mr. Charles Joseph',\n       'Goldschmidt, Mr. George B', 'Greenfield, Mr. William Bertram',\n       'Doling, Mrs. John T (Ada Julia Bone)', 'Kantor, Mr. Sinai',\n       'Petranec, Miss. Matilda', 'Petroff, Mr. Pastcho (\"Pentcho\")',\n       'White, Mr. Richard Frasar', 'Johansson, Mr. Gustaf Joel',\n       'Gustafsson, Mr. Anders Vilhelm', 'Mionoff, Mr. Stoytcho',\n       'Salkjelsvik, Miss. Anna Kristine', 'Moss, Mr. Albert Johan',\n       'Rekic, Mr. Tido', 'Moran, Miss. Bertha',\n       'Porter, Mr. Walter Chamberlain', 'Zabour, Miss. Hileni',\n       'Barton, Mr. David John', 'Jussila, Miss. Katriina',\n       'Attalah, Miss. Malake', 'Pekoniemi, Mr. Edvard',\n       'Connors, Mr. Patrick', 'Turpin, Mr. William John Robert',\n       'Baxter, Mr. Quigg Edmond', 'Andersson, Miss. Ellis Anna Maria',\n       'Hickman, Mr. Stanley George', 'Moore, Mr. Leonard Charles',\n       'Nasser, Mr. Nicholas', 'Webber, Miss. Susan',\n       'White, Mr. Percival Wayland', 'Nicola-Yarred, Master. Elias',\n       'McMahon, Mr. Martin', 'Madsen, Mr. Fridtjof Arne',\n       'Peter, Miss. Anna', 'Ekstrom, Mr. Johan', 'Drazenoic, Mr. Jozef',\n       'Coelho, Mr. Domingos Fernandeo',\n       'Robins, Mrs. Alexander A (Grace Charity Laury)',\n       'Weisz, Mrs. Leopold (Mathilde Francoise Pede)',\n       'Sobey, Mr. Samuel James Hayden', 'Richard, Mr. Emile',\n       'Newsom, Miss. Helen Monypeny', 'Futrelle, Mr. Jacques Heath',\n       'Osen, Mr. Olaf Elon', 'Giglio, Mr. Victor',\n       'Boulos, Mrs. Joseph (Sultana)', 'Nysten, Miss. Anna Sofia',\n       'Hakkarainen, Mrs. Pekka Pietari (Elin Matilda Dolck)',\n       'Burke, Mr. Jeremiah', 'Andrew, Mr. Edgardo Samuel',\n       'Nicholls, Mr. Joseph Charles',\n       'Andersson, Mr. August Edvard (\"Wennerstrom\")',\n       'Ford, Miss. Robina Maggie \"Ruby\"',\n       'Navratil, Mr. Michel (\"Louis M Hoffman\")',\n       'Byles, Rev. Thomas Roussel Davids', 'Bateman, Rev. Robert James',\n       'Pears, Mrs. Thomas (Edith Wearne)', 'Meo, Mr. Alfonzo',\n       'van Billiard, Mr. Austin Blyler', 'Olsen, Mr. Ole Martin',\n       'Williams, Mr. Charles Duane', 'Gilnagh, Miss. Katherine \"Katie\"',\n       'Corn, Mr. Harry', 'Smiljanic, Mr. Mile',\n       'Sage, Master. Thomas Henry', 'Cribb, Mr. John Hatfield',\n       'Watt, Mrs. James (Elizabeth \"Bessie\" Inglis Milne)',\n       'Bengtsson, Mr. John Viktor', 'Calic, Mr. Jovo',\n       'Panula, Master. Eino Viljami',\n       'Goldsmith, Master. Frank John William \"Frankie\"',\n       'Chibnall, Mrs. (Edith Martha Bowerman)',\n       'Skoog, Mrs. William (Anna Bernhardina Karlsson)',\n       'Baumann, Mr. John D', 'Ling, Mr. Lee',\n       'Van der hoef, Mr. Wyckoff', 'Rice, Master. Arthur',\n       'Johnson, Miss. Eleanor Ileen', 'Sivola, Mr. Antti Wilhelm',\n       'Smith, Mr. James Clinch', 'Klasen, Mr. Klas Albin',\n       'Lefebre, Master. Henry Forbes', 'Isham, Miss. Ann Elizabeth',\n       'Hale, Mr. Reginald', 'Leonard, Mr. Lionel',\n       'Sage, Miss. Constance Gladys', 'Pernot, Mr. Rene',\n       'Asplund, Master. Clarence Gustaf Hugo',\n       'Becker, Master. Richard F', 'Kink-Heilmann, Miss. Luise Gretchen',\n       'Rood, Mr. Hugh Roscoe',\n       'O\\'Brien, Mrs. Thomas (Johanna \"Hannah\" Godfrey)',\n       'Romaine, Mr. Charles Hallace (\"Mr C Rolmane\")',\n       'Bourke, Mr. John', 'Turcin, Mr. Stjepan', 'Pinsky, Mrs. (Rosa)',\n       'Carbines, Mr. William',\n       'Andersen-Jensen, Miss. Carla Christine Nielsine',\n       'Navratil, Master. Michel M',\n       'Brown, Mrs. James Joseph (Margaret Tobin)',\n       'Lurette, Miss. Elise', 'Mernagh, Mr. Robert',\n       'Olsen, Mr. Karl Siegwart Andreas',\n       'Madigan, Miss. Margaret \"Maggie\"',\n       'Yrois, Miss. Henriette (\"Mrs Harbeck\")',\n       'Vande Walle, Mr. Nestor Cyriel', 'Sage, Mr. Frederick',\n       'Johanson, Mr. Jakob Alfred', 'Youseff, Mr. Gerious',\n       'Cohen, Mr. Gurshon \"Gus\"', 'Strom, Miss. Telma Matilda',\n       'Backstrom, Mr. Karl Alfred', 'Albimona, Mr. Nassef Cassem',\n       'Carr, Miss. Helen \"Ellen\"', 'Blank, Mr. Henry', 'Ali, Mr. Ahmed',\n       'Cameron, Miss. Clear Annie', 'Perkin, Mr. John Henry',\n       'Givard, Mr. Hans Kristensen', 'Kiernan, Mr. Philip',\n       'Newell, Miss. Madeleine', 'Honkanen, Miss. Eliina',\n       'Jacobsohn, Mr. Sidney Samuel', 'Bazzani, Miss. Albina',\n       'Harris, Mr. Walter', 'Sunderland, Mr. Victor Francis',\n       'Bracken, Mr. James H', 'Green, Mr. George Henry',\n       'Nenkoff, Mr. Christo', 'Hoyt, Mr. Frederick Maxfield',\n       'Berglund, Mr. Karl Ivar Sven', 'Mellors, Mr. William John',\n       'Lovell, Mr. John Hall (\"Henry\")', 'Fahlstrom, Mr. Arne Jonas',\n       'Lefebre, Miss. Mathilde',\n       'Harris, Mrs. Henry Birkhardt (Irene Wallach)',\n       'Larsson, Mr. Bengt Edvin', 'Sjostedt, Mr. Ernst Adolf',\n       'Asplund, Miss. Lillian Gertrud',\n       'Leyson, Mr. Robert William Norman',\n       'Harknett, Miss. Alice Phoebe', 'Hold, Mr. Stephen',\n       'Collyer, Miss. Marjorie \"Lottie\"',\n       'Pengelly, Mr. Frederick William', 'Hunt, Mr. George Henry',\n       'Zabour, Miss. Thamine', 'Murphy, Miss. Katherine \"Kate\"',\n       'Coleridge, Mr. Reginald Charles', 'Maenpaa, Mr. Matti Alexanteri',\n       'Attalah, Mr. Sleiman', 'Minahan, Dr. William Edward',\n       'Lindahl, Miss. Agda Thorilda Viktoria',\n       'Hamalainen, Mrs. William (Anna)', 'Beckwith, Mr. Richard Leonard',\n       'Carter, Rev. Ernest Courtenay', 'Reed, Mr. James George',\n       'Strom, Mrs. Wilhelm (Elna Matilda Persson)',\n       'Stead, Mr. William Thomas', 'Lobb, Mr. William Arthur',\n       'Rosblom, Mrs. Viktor (Helena Wilhelmina)',\n       'Touma, Mrs. Darwis (Hanne Youssef Razi)',\n       'Thorne, Mrs. Gertrude Maybelle', 'Cherry, Miss. Gladys',\n       'Ward, Miss. Anna', 'Parrish, Mrs. (Lutie Davis)',\n       'Smith, Mr. Thomas', 'Asplund, Master. Edvin Rojj Felix',\n       'Taussig, Mr. Emil', 'Harrison, Mr. William', 'Henry, Miss. Delia',\n       'Reeves, Mr. David', 'Panula, Mr. Ernesti Arvid',\n       'Persson, Mr. Ernst Ulrik',\n       'Graham, Mrs. William Thompson (Edith Junkins)',\n       'Bissette, Miss. Amelia', 'Cairns, Mr. Alexander',\n       'Tornquist, Mr. William Henry',\n       'Mellinger, Mrs. (Elizabeth Anne Maidment)',\n       'Natsch, Mr. Charles H', 'Healy, Miss. Hanora \"Nora\"',\n       'Andrews, Miss. Kornelia Theodosia',\n       'Lindblom, Miss. Augusta Charlotta', 'Parkes, Mr. Francis \"Frank\"',\n       'Rice, Master. Eric', 'Abbott, Mrs. Stanton (Rosa Hunt)',\n       'Duane, Mr. Frank', 'Olsson, Mr. Nils Johan Goransson',\n       'de Pelsmaeker, Mr. Alfons', 'Dorking, Mr. Edward Arthur',\n       'Smith, Mr. Richard William', 'Stankovic, Mr. Ivan',\n       'de Mulder, Mr. Theodore', 'Naidenoff, Mr. Penko',\n       'Hosono, Mr. Masabumi', 'Connolly, Miss. Kate',\n       'Barber, Miss. Ellen \"Nellie\"',\n       'Bishop, Mrs. Dickinson H (Helen Walton)',\n       'Levy, Mr. Rene Jacques', 'Haas, Miss. Aloisia',\n       'Mineff, Mr. Ivan', 'Lewy, Mr. Ervin G', 'Hanna, Mr. Mansour',\n       'Allison, Miss. Helen Loraine', 'Saalfeld, Mr. Adolphe',\n       'Baxter, Mrs. James (Helene DeLaudeniere Chaput)',\n       'Kelly, Miss. Anna Katherine \"Annie Kate\"', 'McCoy, Mr. Bernard',\n       'Johnson, Mr. William Cahoone Jr', 'Keane, Miss. Nora A',\n       'Williams, Mr. Howard Hugh \"Harry\"',\n       'Allison, Master. Hudson Trevor', 'Fleming, Miss. Margaret',\n       'Penasco y Castellana, Mrs. Victor de Satode (Maria Josefa Perez de Soto y Vallejo)',\n       'Abelson, Mr. Samuel', 'Francatelli, Miss. Laura Mabel',\n       'Hays, Miss. Margaret Bechstein', 'Ryerson, Miss. Emily Borie',\n       'Lahtinen, Mrs. William (Anna Sylfven)', 'Hendekovic, Mr. Ignjac',\n       'Hart, Mr. Benjamin', 'Nilsson, Miss. Helmina Josefina',\n       'Kantor, Mrs. Sinai (Miriam Sternin)', 'Moraweck, Dr. Ernest',\n       'Wick, Miss. Mary Natalie',\n       'Spedden, Mrs. Frederic Oakley (Margaretta Corning Stone)',\n       'Dennis, Mr. Samuel', 'Danoff, Mr. Yoto',\n       'Slayter, Miss. Hilda Mary',\n       'Caldwell, Mrs. Albert Francis (Sylvia Mae Harbaugh)',\n       'Sage, Mr. George John Jr', 'Young, Miss. Marie Grice',\n       'Nysveen, Mr. Johan Hansen', 'Ball, Mrs. (Ada E Hall)',\n       'Goldsmith, Mrs. Frank John (Emily Alice Brown)',\n       'Hippach, Miss. Jean Gertrude', 'McCoy, Miss. Agnes',\n       'Partner, Mr. Austen', 'Graham, Mr. George Edward',\n       'Vander Planke, Mr. Leo Edmondus',\n       'Frauenthal, Mrs. Henry William (Clara Heinsheimer)',\n       'Denkoff, Mr. Mitto', 'Pears, Mr. Thomas Clinton',\n       'Burns, Miss. Elizabeth Margaret', 'Dahl, Mr. Karl Edwart',\n       'Blackwell, Mr. Stephen Weart', 'Navratil, Master. Edmond Roger',\n       'Fortune, Miss. Alice Elizabeth', 'Collander, Mr. Erik Gustaf',\n       'Sedgwick, Mr. Charles Frederick Waddington',\n       'Fox, Mr. Stanley Hubert', 'Brown, Miss. Amelia \"Mildred\"',\n       'Smith, Miss. Marion Elsie',\n       'Davison, Mrs. Thomas Henry (Mary E Finck)',\n       'Coutts, Master. William Loch \"William\"', 'Dimic, Mr. Jovan',\n       'Odahl, Mr. Nils Martin', 'Williams-Lambert, Mr. Fletcher Fellows',\n       'Elias, Mr. Tannous', 'Arnold-Franchi, Mr. Josef',\n       'Yousif, Mr. Wazli', 'Vanden Steen, Mr. Leo Peter',\n       'Bowerman, Miss. Elsie Edith', 'Funk, Miss. Annie Clemmer',\n       'McGovern, Miss. Mary', 'Mockler, Miss. Helen Mary \"Ellie\"',\n       'Skoog, Mr. Wilhelm', 'del Carlo, Mr. Sebastiano',\n       'Barbara, Mrs. (Catherine David)', 'Asim, Mr. Adola',\n       \"O'Brien, Mr. Thomas\", 'Adahl, Mr. Mauritz Nils Martin',\n       'Warren, Mrs. Frank Manley (Anna Sophia Atkinson)',\n       'Moussa, Mrs. (Mantoura Boulos)', 'Jermyn, Miss. Annie',\n       'Aubart, Mme. Leontine Pauline', 'Harder, Mr. George Achilles',\n       'Wiklund, Mr. Jakob Alfred', 'Beavan, Mr. William Thomas',\n       'Ringhini, Mr. Sante', 'Palsson, Miss. Stina Viola',\n       'Meyer, Mrs. Edgar Joseph (Leila Saks)',\n       'Landergren, Miss. Aurora Adelia', 'Widener, Mr. Harry Elkins',\n       'Betros, Mr. Tannous', 'Gustafsson, Mr. Karl Gideon',\n       'Bidois, Miss. Rosalie', 'Nakid, Miss. Maria (\"Mary\")',\n       'Tikkanen, Mr. Juho',\n       'Holverson, Mrs. Alexander Oskar (Mary Aline Towner)',\n       'Plotcharsky, Mr. Vasil', 'Davies, Mr. Charles Henry',\n       'Goodwin, Master. Sidney Leonard', 'Buss, Miss. Kate',\n       'Sadlier, Mr. Matthew', 'Lehmann, Miss. Bertha',\n       'Carter, Mr. William Ernest', 'Jansson, Mr. Carl Olof',\n       'Gustafsson, Mr. Johan Birger', 'Newell, Miss. Marjorie',\n       'Sandstrom, Mrs. Hjalmar (Agnes Charlotta Bengtsson)',\n       'Johansson, Mr. Erik', 'Olsson, Miss. Elina',\n       'McKane, Mr. Peter David', 'Pain, Dr. Alfred',\n       'Trout, Mrs. William H (Jessie L)', 'Niskanen, Mr. Juha',\n       'Adams, Mr. John', 'Jussila, Miss. Mari Aina',\n       'Hakkarainen, Mr. Pekka Pietari', 'Oreskovic, Miss. Marija',\n       'Gale, Mr. Shadrach', 'Widegren, Mr. Carl/Charles Peter',\n       'Richards, Master. William Rowe',\n       'Birkeland, Mr. Hans Martin Monsen', 'Lefebre, Miss. Ida',\n       'Sdycoff, Mr. Todor', 'Hart, Mr. Henry', 'Minahan, Miss. Daisy E',\n       'Cunningham, Mr. Alfred Fleming', 'Sundman, Mr. Johan Julian',\n       'Meek, Mrs. Thomas (Annie Louise Rowley)',\n       'Drew, Mrs. James Vivian (Lulu Thorne Christian)',\n       'Silven, Miss. Lyyli Karoliina', 'Matthews, Mr. William John',\n       'Van Impe, Miss. Catharina', 'Gheorgheff, Mr. Stanio',\n       'Charters, Mr. David', 'Zimmerman, Mr. Leo',\n       'Danbom, Mrs. Ernst Gilbert (Anna Sigrid Maria Brogren)',\n       'Rosblom, Mr. Viktor Richard', 'Wiseman, Mr. Phillippe',\n       'Clarke, Mrs. Charles V (Ada Maria Winfield)',\n       'Phillips, Miss. Kate Florence (\"Mrs Kate Louise Phillips Marshall\")',\n       'Flynn, Mr. James', 'Pickard, Mr. Berk (Berk Trembisky)',\n       'Bjornstrom-Steffansson, Mr. Mauritz Hakan',\n       'Thorneycroft, Mrs. Percival (Florence Kate White)',\n       'Louch, Mrs. Charles Alexander (Alice Adelaide Slow)',\n       'Kallio, Mr. Nikolai Erland', 'Silvey, Mr. William Baird',\n       'Carter, Miss. Lucile Polk',\n       'Ford, Miss. Doolina Margaret \"Daisy\"',\n       'Richards, Mrs. Sidney (Emily Hocking)', 'Fortune, Mr. Mark',\n       'Kvillner, Mr. Johan Henrik Johannesson',\n       'Hart, Mrs. Benjamin (Esther Ada Bloomfield)', 'Hampe, Mr. Leon',\n       'Petterson, Mr. Johan Emil', 'Reynaldo, Ms. Encarnacion',\n       'Johannesen-Bratthammer, Mr. Bernt', 'Dodge, Master. Washington',\n       'Mellinger, Miss. Madeleine Violet', 'Seward, Mr. Frederic Kimber',\n       'Baclini, Miss. Marie Catherine', 'Peuchen, Major. Arthur Godfrey',\n       'West, Mr. Edwy Arthur', 'Hagland, Mr. Ingvald Olai Olsen',\n       'Foreman, Mr. Benjamin Laventall', 'Goldenberg, Mr. Samuel L',\n       'Peduzzi, Mr. Joseph', 'Jalsevac, Mr. Ivan',\n       'Millet, Mr. Francis Davis', 'Kenyon, Mrs. Frederick R (Marion)',\n       'Toomey, Miss. Ellen', \"O'Connor, Mr. Maurice\",\n       'Anderson, Mr. Harry', 'Morley, Mr. William', 'Gee, Mr. Arthur H',\n       'Milling, Mr. Jacob Christian', 'Maisner, Mr. Simon',\n       'Goncalves, Mr. Manuel Estanslas', 'Campbell, Mr. William',\n       'Smart, Mr. John Montgomery', 'Scanlan, Mr. James',\n       'Baclini, Miss. Helene Barbara', 'Keefe, Mr. Arthur',\n       'Cacic, Mr. Luka', 'West, Mrs. Edwy Arthur (Ada Mary Worth)',\n       'Jerwan, Mrs. Amin S (Marie Marthe Thuillard)',\n       'Strandberg, Miss. Ida Sofia', 'Clifford, Mr. George Quincy',\n       'Renouf, Mr. Peter Henry', 'Braund, Mr. Lewis Richard',\n       'Karlsson, Mr. Nils August', 'Hirvonen, Miss. Hildur E',\n       'Goodwin, Master. Harold Victor',\n       'Frost, Mr. Anthony Wood \"Archie\"', 'Rouse, Mr. Richard Henry',\n       'Turkula, Mrs. (Hedwig)', 'Bishop, Mr. Dickinson H',\n       'Lefebre, Miss. Jeannie',\n       'Hoyt, Mrs. Frederick Maxfield (Jane Anne Forby)',\n       'Kent, Mr. Edward Austin', 'Somerton, Mr. Francis William',\n       'Coutts, Master. Eden Leslie \"Neville\"',\n       'Hagland, Mr. Konrad Mathias Reiersen', 'Windelov, Mr. Einar',\n       'Molson, Mr. Harry Markland', 'Artagaveytia, Mr. Ramon',\n       'Stanley, Mr. Edward Roland', 'Yousseff, Mr. Gerious',\n       'Eustis, Miss. Elizabeth Mussey',\n       'Shellard, Mr. Frederick William',\n       'Allison, Mrs. Hudson J C (Bessie Waldo Daniels)',\n       'Svensson, Mr. Olof', 'Calic, Mr. Petar', 'Canavan, Miss. Mary',\n       \"O'Sullivan, Miss. Bridget Mary\", 'Laitinen, Miss. Kristina Sofia',\n       'Maioni, Miss. Roberta',\n       'Penasco y Castellana, Mr. Victor de Satode',\n       'Quick, Mrs. Frederick Charles (Jane Richards)',\n       'Bradley, Mr. George (\"George Arthur Brayton\")',\n       'Olsen, Mr. Henry Margido', 'Lang, Mr. Fang',\n       'Daly, Mr. Eugene Patrick', 'Webber, Mr. James',\n       'McGough, Mr. James Robert',\n       'Rothschild, Mrs. Martin (Elizabeth L. Barrett)',\n       'Coleff, Mr. Satio', 'Walker, Mr. William Anderson',\n       'Lemore, Mrs. (Amelia Milley)', 'Ryan, Mr. Patrick',\n       'Angle, Mrs. William A (Florence \"Mary\" Agnes Hughes)',\n       'Pavlovic, Mr. Stefo', 'Perreault, Miss. Anne', 'Vovk, Mr. Janko',\n       'Lahoud, Mr. Sarkis',\n       'Hippach, Mrs. Louis Albert (Ida Sophia Fischer)',\n       'Kassem, Mr. Fared', 'Farrell, Mr. James', 'Ridsdale, Miss. Lucy',\n       'Farthing, Mr. John', 'Salonen, Mr. Johan Werner',\n       'Hocking, Mr. Richard George', 'Quick, Miss. Phyllis May',\n       'Toufik, Mr. Nakli', 'Elias, Mr. Joseph Jr',\n       'Peter, Mrs. Catherine (Catherine Rizk)', 'Cacic, Miss. Marija',\n       'Hart, Miss. Eva Miriam', 'Butt, Major. Archibald Willingham',\n       'LeRoy, Miss. Bertha', 'Risien, Mr. Samuel Beard',\n       'Frolicher, Miss. Hedwig Margaritha', 'Crosby, Miss. Harriet R',\n       'Andersson, Miss. Ingeborg Constanzia',\n       'Andersson, Miss. Sigrid Elisabeth', 'Beane, Mr. Edward',\n       'Douglas, Mr. Walter Donald', 'Nicholson, Mr. Arthur Ernest',\n       'Beane, Mrs. Edward (Ethel Clarke)', 'Padro y Manent, Mr. Julian',\n       'Goldsmith, Mr. Frank John', 'Davies, Master. John Morgan Jr',\n       'Thayer, Mr. John Borland Jr', 'Sharp, Mr. Percival James R',\n       \"O'Brien, Mr. Timothy\", 'Leeni, Mr. Fahim (\"Philip Zenni\")',\n       'Ohman, Miss. Velin', 'Wright, Mr. George',\n       'Duff Gordon, Lady. (Lucille Christiana Sutherland) (\"Mrs Morgan\")',\n       'Robbins, Mr. Victor', 'Taussig, Mrs. Emil (Tillie Mandelbaum)',\n       'de Messemaeker, Mrs. Guillaume Joseph (Emma)',\n       'Morrow, Mr. Thomas Rowan', 'Sivic, Mr. Husein',\n       'Norman, Mr. Robert Douglas', 'Simmons, Mr. John',\n       'Meanwell, Miss. (Marion Ogden)', 'Davies, Mr. Alfred J',\n       'Stoytcheff, Mr. Ilia',\n       'Palsson, Mrs. Nils (Alma Cornelia Berglund)',\n       'Doharr, Mr. Tannous', 'Jonsson, Mr. Carl', 'Harris, Mr. George',\n       'Appleton, Mrs. Edward Dale (Charlotte Lamson)',\n       'Flynn, Mr. John Irwin (\"Irving\")', 'Kelly, Miss. Mary',\n       'Rush, Mr. Alfred George John', 'Patchett, Mr. George',\n       'Garside, Miss. Ethel',\n       'Silvey, Mrs. William Baird (Alice Munger)',\n       'Caram, Mrs. Joseph (Maria Elias)', 'Jussila, Mr. Eiriik',\n       'Christy, Miss. Julie Rachel',\n       'Thayer, Mrs. John Borland (Marian Longstreth Morris)',\n       'Downton, Mr. William James', 'Ross, Mr. John Hugo',\n       'Paulner, Mr. Uscher', 'Taussig, Miss. Ruth',\n       'Jarvis, Mr. John Denzil', 'Frolicher-Stehli, Mr. Maxmillian',\n       'Gilinski, Mr. Eliezer', 'Murdlin, Mr. Joseph',\n       'Rintamaki, Mr. Matti',\n       'Stephenson, Mrs. Walter Bertram (Martha Eustis)',\n       'Elsbury, Mr. William James', 'Bourke, Miss. Mary',\n       'Chapman, Mr. John Henry', 'Van Impe, Mr. Jean Baptiste',\n       'Leitch, Miss. Jessie Wills', 'Johnson, Mr. Alfred',\n       'Boulos, Mr. Hanna',\n       'Duff Gordon, Sir. Cosmo Edmund (\"Mr Morgan\")',\n       'Jacobsohn, Mrs. Sidney Samuel (Amy Frances Christy)',\n       'Slabenoff, Mr. Petco', 'Harrington, Mr. Charles H',\n       'Torber, Mr. Ernst William', 'Homer, Mr. Harry (\"Mr E Haven\")',\n       'Lindell, Mr. Edvard Bengtsson', 'Karaic, Mr. Milan',\n       'Daniel, Mr. Robert Williams',\n       'Laroche, Mrs. Joseph (Juliette Marie Louise Lafargue)',\n       'Shutes, Miss. Elizabeth W',\n       'Andersson, Mrs. Anders Johan (Alfrida Konstantia Brogren)',\n       'Jardin, Mr. Jose Neto', 'Murphy, Miss. Margaret Jane',\n       'Horgan, Mr. John', 'Brocklebank, Mr. William Alfred',\n       'Herman, Miss. Alice', 'Danbom, Mr. Ernst Gilbert',\n       'Lobb, Mrs. William Arthur (Cordelia K Stanlick)',\n       'Becker, Miss. Marion Louise', 'Gavey, Mr. Lawrence',\n       'Yasbeck, Mr. Antoni', 'Kimball, Mr. Edwin Nelson Jr',\n       'Nakid, Mr. Sahid', 'Hansen, Mr. Henry Damsgaard',\n       'Bowen, Mr. David John \"Dai\"', 'Sutton, Mr. Frederick',\n       'Kirkland, Rev. Charles Leonard', 'Longley, Miss. Gretchen Fiske',\n       'Bostandyeff, Mr. Guentcho', \"O'Connell, Mr. Patrick D\",\n       'Barkworth, Mr. Algernon Henry Wilson',\n       'Lundahl, Mr. Johan Svensson', 'Stahelin-Maeglin, Dr. Max',\n       'Parr, Mr. William Henry Marsh', 'Skoog, Miss. Mabel',\n       'Davis, Miss. Mary', 'Leinonen, Mr. Antti Gustaf',\n       'Collyer, Mr. Harvey', 'Panula, Mrs. Juha (Maria Emilia Ojala)',\n       'Thorneycroft, Mr. Percival', 'Jensen, Mr. Hans Peder',\n       'Sagesser, Mlle. Emma', 'Skoog, Miss. Margit Elizabeth',\n       'Foo, Mr. Choong', 'Baclini, Miss. Eugenie',\n       'Harper, Mr. Henry Sleeper', 'Cor, Mr. Liudevit',\n       'Simonius-Blumer, Col. Oberst Alfons', 'Willey, Mr. Edward',\n       'Stanley, Miss. Amy Zillah Elsie', 'Mitkoff, Mr. Mito',\n       'Doling, Miss. Elsie', 'Kalvik, Mr. Johannes Halvorsen',\n       'O\\'Leary, Miss. Hanora \"Norah\"', 'Hegarty, Miss. Hanora \"Nora\"',\n       'Hickman, Mr. Leonard Mark', 'Radeff, Mr. Alexander',\n       'Bourke, Mrs. John (Catherine)', 'Eitemiller, Mr. George Floyd',\n       'Newell, Mr. Arthur Webster', 'Frauenthal, Dr. Henry William',\n       'Badt, Mr. Mohamed', 'Colley, Mr. Edward Pomeroy',\n       'Coleff, Mr. Peju', 'Lindqvist, Mr. Eino William',\n       'Hickman, Mr. Lewis', 'Butler, Mr. Reginald Fenton',\n       'Rommetvedt, Mr. Knud Paust', 'Cook, Mr. Jacob',\n       'Taylor, Mrs. Elmer Zebley (Juliet Cummins Wright)',\n       'Brown, Mrs. Thomas William Solomon (Elizabeth Catherine Ford)',\n       'Davidson, Mr. Thornton', 'Mitchell, Mr. Henry Michael',\n       'Wilhelms, Mr. Charles', 'Watson, Mr. Ennis Hastings',\n       'Edvardsson, Mr. Gustaf Hjalmar', 'Sawyer, Mr. Frederick Charles',\n       'Turja, Miss. Anna Sofia',\n       'Goodwin, Mrs. Frederick (Augusta Tyler)',\n       'Cardeza, Mr. Thomas Drake Martinez', 'Peters, Miss. Katie',\n       'Hassab, Mr. Hammad', 'Olsvigen, Mr. Thor Anderson',\n       'Goodwin, Mr. Charles Edward', 'Brown, Mr. Thomas William Solomon',\n       'Laroche, Mr. Joseph Philippe Lemercier',\n       'Panula, Mr. Jaako Arnold', 'Dakic, Mr. Branko',\n       'Fischer, Mr. Eberhard Thelander',\n       'Madill, Miss. Georgette Alexandra', 'Dick, Mr. Albert Adrian',\n       'Karun, Miss. Manca', 'Lam, Mr. Ali', 'Saad, Mr. Khalil',\n       'Weir, Col. John', 'Chapman, Mr. Charles Henry',\n       'Kelly, Mr. James', 'Mullens, Miss. Katherine \"Katie\"',\n       'Thayer, Mr. John Borland',\n       'Humblen, Mr. Adolf Mathias Nicolai Olsen',\n       'Astor, Mrs. John Jacob (Madeleine Talmadge Force)',\n       'Silverthorne, Mr. Spencer Victor', 'Barbara, Miss. Saiide',\n       'Gallagher, Mr. Martin', 'Hansen, Mr. Henrik Juul',\n       'Morley, Mr. Henry Samuel (\"Mr Henry Marshall\")',\n       'Kelly, Mrs. Florence \"Fannie\"',\n       'Calderhead, Mr. Edward Pennington', 'Cleaver, Miss. Alice',\n       'Moubarek, Master. Halim Gonios (\"William George\")',\n       'Mayne, Mlle. Berthe Antonine (\"Mrs de Villiers\")',\n       'Klaber, Mr. Herman', 'Taylor, Mr. Elmer Zebley',\n       'Larsson, Mr. August Viktor', 'Greenberg, Mr. Samuel',\n       'Soholt, Mr. Peter Andreas Lauritz Andersen',\n       'Endres, Miss. Caroline Louise',\n       'Troutt, Miss. Edwina Celia \"Winnie\"', 'McEvoy, Mr. Michael',\n       'Johnson, Mr. Malkolm Joackim',\n       'Harper, Miss. Annie Jessie \"Nina\"', 'Jensen, Mr. Svend Lauritz',\n       'Gillespie, Mr. William Henry', 'Hodges, Mr. Henry Price',\n       'Chambers, Mr. Norman Campbell', 'Oreskovic, Mr. Luka',\n       'Renouf, Mrs. Peter Henry (Lillian Jefferys)',\n       'Mannion, Miss. Margareth', 'Bryhl, Mr. Kurt Arnold Gottfrid',\n       'Ilmakangas, Miss. Pieta Sofia', 'Allen, Miss. Elisabeth Walton',\n       'Hassan, Mr. Houssein G N', 'Knight, Mr. Robert J',\n       'Berriman, Mr. William John', 'Troupiansky, Mr. Moses Aaron',\n       'Williams, Mr. Leslie', 'Ford, Mrs. Edward (Margaret Ann Watson)',\n       'Lesurer, Mr. Gustave J', 'Ivanoff, Mr. Kanio',\n       'Nankoff, Mr. Minko', 'Hawksford, Mr. Walter James',\n       'Cavendish, Mr. Tyrell William',\n       'Ryerson, Miss. Susan Parker \"Suzette\"', 'McNamee, Mr. Neal',\n       'Stranden, Mr. Juho', 'Crosby, Capt. Edward Gifford',\n       'Abbott, Mr. Rossmore Edward', 'Sinkkonen, Miss. Anna',\n       'Marvin, Mr. Daniel Warner', 'Connaghton, Mr. Michael',\n       'Wells, Miss. Joan', 'Moor, Master. Meier',\n       'Vande Velde, Mr. Johannes Joseph', 'Jonkoff, Mr. Lalio',\n       'Herman, Mrs. Samuel (Jane Laver)', 'Hamalainen, Master. Viljo',\n       'Carlsson, Mr. August Sigfrid', 'Bailey, Mr. Percy Andrew',\n       'Theobald, Mr. Thomas Leonard',\n       'Rothes, the Countess. of (Lucy Noel Martha Dyer-Edwards)',\n       'Garfirth, Mr. John', 'Nirva, Mr. Iisakki Antino Aijo',\n       'Barah, Mr. Hanna Assi',\n       'Carter, Mrs. William Ernest (Lucile Polk)',\n       'Eklund, Mr. Hans Linus', 'Hogeboom, Mrs. John C (Anna Andrews)',\n       'Brewe, Dr. Arthur Jackson', 'Mangan, Miss. Mary',\n       'Moran, Mr. Daniel J', 'Gronnestad, Mr. Daniel Danielsen',\n       'Lievens, Mr. Rene Aime', 'Jensen, Mr. Niels Peder',\n       'Mack, Mrs. (Mary)', 'Elias, Mr. Dibo',\n       'Hocking, Mrs. Elizabeth (Eliza Needs)',\n       'Myhrman, Mr. Pehr Fabian Oliver Malkolm', 'Tobin, Mr. Roger',\n       'Emanuel, Miss. Virginia Ethel', 'Kilgannon, Mr. Thomas J',\n       'Robert, Mrs. Edward Scott (Elisabeth Walton McMillan)',\n       'Ayoub, Miss. Banoura',\n       'Dick, Mrs. Albert Adrian (Vera Gillespie)',\n       'Long, Mr. Milton Clyde', 'Johnston, Mr. Andrew G',\n       'Ali, Mr. William', 'Harmer, Mr. Abraham (David Lishin)',\n       'Sjoblom, Miss. Anna Sofia', 'Rice, Master. George Hugh',\n       'Dean, Master. Bertram Vere', 'Guggenheim, Mr. Benjamin',\n       'Keane, Mr. Andrew \"Andy\"', 'Gaskell, Mr. Alfred',\n       'Sage, Miss. Stella Anna', 'Hoyt, Mr. William Fisher',\n       'Dantcheff, Mr. Ristiu', 'Otter, Mr. Richard',\n       'Leader, Dr. Alice (Farnham)', 'Osman, Mrs. Mara',\n       'Ibrahim Shawah, Mr. Yousseff',\n       'Van Impe, Mrs. Jean Baptiste (Rosalie Paula Govaert)',\n       'Ponesell, Mr. Martin',\n       'Collyer, Mrs. Harvey (Charlotte Annie Tate)',\n       'Carter, Master. William Thornton II',\n       'Thomas, Master. Assad Alexander', 'Hedman, Mr. Oskar Arvid',\n       'Johansson, Mr. Karl Johan', 'Andrews, Mr. Thomas Jr',\n       'Pettersson, Miss. Ellen Natalia', 'Meyer, Mr. August',\n       'Chambers, Mrs. Norman Campbell (Bertha Griggs)',\n       'Alexander, Mr. William', 'Lester, Mr. James',\n       'Slemen, Mr. Richard James', 'Andersson, Miss. Ebba Iris Alfrida',\n       'Tomlin, Mr. Ernest Portage', 'Fry, Mr. Richard',\n       'Heininen, Miss. Wendla Maria', 'Mallet, Mr. Albert',\n       'Holm, Mr. John Fredrik Alexander', 'Skoog, Master. Karl Thorsten',\n       'Hays, Mrs. Charles Melville (Clara Jennings Gregg)',\n       'Lulic, Mr. Nikola', 'Reuchlin, Jonkheer. John George',\n       'Moor, Mrs. (Beila)', 'Panula, Master. Urho Abraham',\n       'Flynn, Mr. John', 'Lam, Mr. Len', 'Mallet, Master. Andre',\n       'McCormack, Mr. Thomas Joseph',\n       'Stone, Mrs. George Nelson (Martha Evelyn)',\n       'Yasbeck, Mrs. Antoni (Selini Alexander)',\n       'Richards, Master. George Sibley', 'Saad, Mr. Amin',\n       'Augustsson, Mr. Albert', 'Allum, Mr. Owen George',\n       'Compton, Miss. Sara Rebecca', 'Pasic, Mr. Jakob',\n       'Sirota, Mr. Maurice', 'Chip, Mr. Chang', 'Marechal, Mr. Pierre',\n       'Alhomaki, Mr. Ilmari Rudolf', 'Mudd, Mr. Thomas Charles',\n       'Serepeca, Miss. Augusta', 'Lemberopolous, Mr. Peter L',\n       'Culumovic, Mr. Jeso', 'Abbing, Mr. Anthony',\n       'Sage, Mr. Douglas Bullen', 'Markoff, Mr. Marin',\n       'Harper, Rev. John',\n       'Goldenberg, Mrs. Samuel L (Edwiga Grabowska)',\n       'Andersson, Master. Sigvard Harald Elias', 'Svensson, Mr. Johan',\n       'Boulos, Miss. Nourelain', 'Lines, Miss. Mary Conover',\n       'Carter, Mrs. Ernest Courtenay (Lilian Hughes)',\n       'Aks, Mrs. Sam (Leah Rosen)',\n       'Wick, Mrs. George Dennick (Mary Hitchcock)',\n       'Daly, Mr. Peter Denis ', 'Baclini, Mrs. Solomon (Latifa Qurban)',\n       'Razi, Mr. Raihed', 'Hansen, Mr. Claus Peter',\n       'Giles, Mr. Frederick Edward',\n       'Swift, Mrs. Frederick Joel (Margaret Welles Barron)',\n       'Sage, Miss. Dorothy Edith \"Dolly\"', 'Gill, Mr. John William',\n       'Bystrom, Mrs. (Karolina)', 'Duran y More, Miss. Asuncion',\n       'Roebling, Mr. Washington Augustus II',\n       'van Melkebeke, Mr. Philemon', 'Johnson, Master. Harold Theodor',\n       'Balkic, Mr. Cerin',\n       'Beckwith, Mrs. Richard Leonard (Sallie Monypeny)',\n       'Carlsson, Mr. Frans Olof', 'Vander Cruyssen, Mr. Victor',\n       'Abelson, Mrs. Samuel (Hannah Wizosky)',\n       'Najib, Miss. Adele Kiamie \"Jane\"',\n       'Gustafsson, Mr. Alfred Ossian', 'Petroff, Mr. Nedelio',\n       'Laleff, Mr. Kristo',\n       'Potter, Mrs. Thomas Jr (Lily Alexenia Wilson)',\n       'Shelley, Mrs. William (Imanita Parrish Hall)',\n       'Markun, Mr. Johann', 'Dahlberg, Miss. Gerda Ulrika',\n       'Banfield, Mr. Frederick James', 'Sutehall, Mr. Henry Jr',\n       'Rice, Mrs. William (Margaret Norton)', 'Montvila, Rev. Juozas',\n       'Graham, Miss. Margaret Edith',\n       'Johnston, Miss. Catherine Helen \"Carrie\"',\n       'Behr, Mr. Karl Howell', 'Dooley, Mr. Patrick'], dtype=object)"
     },
     "execution_count": 36,
     "metadata": {},
     "output_type": "execute_result"
    }
   ],
   "source": [
    "data[data.columns[3]].values"
   ],
   "metadata": {
    "collapsed": false,
    "ExecuteTime": {
     "end_time": "2024-02-20T11:56:12.544548393Z",
     "start_time": "2024-02-20T11:56:12.495295855Z"
    }
   },
   "id": "c9b37b8d75dce67",
   "execution_count": 36
  },
  {
   "cell_type": "code",
   "outputs": [
    {
     "data": {
      "text/plain": "PassengerId                         3\nSurvived                            1\nPclass                              3\nName           Heikkinen, Miss. Laina\nSex                            female\nAge                              26.0\nSibSp                               0\nParch                               0\nTicket               STON/O2. 3101282\nFare                            7.925\nCabin                             NaN\nEmbarked                            S\nName: 2, dtype: object"
     },
     "execution_count": 37,
     "metadata": {},
     "output_type": "execute_result"
    }
   ],
   "source": [
    "data.loc[2]"
   ],
   "metadata": {
    "collapsed": false,
    "ExecuteTime": {
     "end_time": "2024-02-20T11:56:18.546443963Z",
     "start_time": "2024-02-20T11:56:18.508565665Z"
    }
   },
   "id": "1c2aa550bfe83527",
   "execution_count": 37
  },
  {
   "cell_type": "code",
   "outputs": [
    {
     "data": {
      "text/plain": "PassengerId                         3\nSurvived                            1\nPclass                              3\nName           Heikkinen, Miss. Laina\nSex                            female\nAge                              26.0\nSibSp                               0\nParch                               0\nTicket               STON/O2. 3101282\nFare                            7.925\nCabin                             NaN\nEmbarked                            S\nName: 2, dtype: object"
     },
     "execution_count": 38,
     "metadata": {},
     "output_type": "execute_result"
    }
   ],
   "source": [
    "data.iloc[2]"
   ],
   "metadata": {
    "collapsed": false,
    "ExecuteTime": {
     "end_time": "2024-02-20T11:56:25.810792914Z",
     "start_time": "2024-02-20T11:56:25.786581555Z"
    }
   },
   "id": "14717c4d8c81fbe5",
   "execution_count": 38
  },
  {
   "cell_type": "code",
   "outputs": [],
   "source": [
    "df = pd.DataFrame()"
   ],
   "metadata": {
    "collapsed": false,
    "ExecuteTime": {
     "end_time": "2024-02-20T11:35:28.861676970Z",
     "start_time": "2024-02-20T11:35:28.817137942Z"
    }
   },
   "id": "58484ac8e578179d",
   "execution_count": 10
  },
  {
   "cell_type": "code",
   "outputs": [
    {
     "name": "stdout",
     "output_type": "stream",
     "text": [
      "    Name  Age  index\n",
      "0  Vasya   20      4\n",
      "1   Alex   30      2\n",
      "2  James   30      1\n",
      "3  Sarah   30      3\n",
      "4   John   30      0\n"
     ]
    }
   ],
   "source": [
    "df['Name'] = ['Vasya', 'Alex', 'James', 'Sarah', 'John']\n",
    "df['Age'] = [20, 30, 30, 30, 30]\n",
    "df['index'] = [4, 2, 1, 3, 0]\n",
    "print(df)"
   ],
   "metadata": {
    "collapsed": false,
    "ExecuteTime": {
     "end_time": "2024-02-20T11:37:55.224809718Z",
     "start_time": "2024-02-20T11:37:55.215393278Z"
    }
   },
   "id": "4cea82f204da5b4c",
   "execution_count": 12
  },
  {
   "cell_type": "code",
   "outputs": [
    {
     "data": {
      "text/plain": "Name     Vasya\nAge         20\nindex        4\nName: 0, dtype: object"
     },
     "execution_count": 39,
     "metadata": {},
     "output_type": "execute_result"
    }
   ],
   "source": [
    "df.loc[0]"
   ],
   "metadata": {
    "collapsed": false,
    "ExecuteTime": {
     "end_time": "2024-02-20T11:56:41.397814497Z",
     "start_time": "2024-02-20T11:56:41.355440338Z"
    }
   },
   "id": "2cc82e8c359a2959",
   "execution_count": 39
  },
  {
   "cell_type": "code",
   "outputs": [
    {
     "name": "stdout",
     "output_type": "stream",
     "text": [
      "Name     Vasya\n",
      "Age         20\n",
      "index        4\n",
      "Name: 0, dtype: object\n"
     ]
    }
   ],
   "source": [
    "df.iloc[0]"
   ],
   "metadata": {
    "collapsed": false,
    "ExecuteTime": {
     "end_time": "2024-02-20T11:38:59.896186985Z",
     "start_time": "2024-02-20T11:38:59.879080551Z"
    }
   },
   "id": "8f78a61980c4d2b1",
   "execution_count": 15
  },
  {
   "cell_type": "code",
   "outputs": [
    {
     "data": {
      "text/plain": "    Name  Age  index\n1   Alex   30      2\n2  James   30      1",
      "text/html": "<div>\n<style scoped>\n    .dataframe tbody tr th:only-of-type {\n        vertical-align: middle;\n    }\n\n    .dataframe tbody tr th {\n        vertical-align: top;\n    }\n\n    .dataframe thead th {\n        text-align: right;\n    }\n</style>\n<table border=\"1\" class=\"dataframe\">\n  <thead>\n    <tr style=\"text-align: right;\">\n      <th></th>\n      <th>Name</th>\n      <th>Age</th>\n      <th>index</th>\n    </tr>\n  </thead>\n  <tbody>\n    <tr>\n      <th>1</th>\n      <td>Alex</td>\n      <td>30</td>\n      <td>2</td>\n    </tr>\n    <tr>\n      <th>2</th>\n      <td>James</td>\n      <td>30</td>\n      <td>1</td>\n    </tr>\n  </tbody>\n</table>\n</div>"
     },
     "execution_count": 19,
     "metadata": {},
     "output_type": "execute_result"
    }
   ],
   "source": [
    "df.iloc[1:3]"
   ],
   "metadata": {
    "collapsed": false,
    "ExecuteTime": {
     "end_time": "2024-02-20T11:46:46.423883807Z",
     "start_time": "2024-02-20T11:46:46.397908883Z"
    }
   },
   "id": "33d916d0304b85a3",
   "execution_count": 19
  },
  {
   "cell_type": "code",
   "outputs": [
    {
     "data": {
      "text/plain": "   PassengerId  Survived  Pclass  \\\n2            3         1       3   \n3            4         1       1   \n4            5         0       3   \n\n                                           Name     Sex   Age  SibSp  Parch  \\\n2                        Heikkinen, Miss. Laina  female  26.0      0      0   \n3  Futrelle, Mrs. Jacques Heath (Lily May Peel)  female  35.0      1      0   \n4                      Allen, Mr. William Henry    male  35.0      0      0   \n\n             Ticket    Fare Cabin Embarked  \n2  STON/O2. 3101282   7.925   NaN        S  \n3            113803  53.100  C123        S  \n4            373450   8.050   NaN        S  ",
      "text/html": "<div>\n<style scoped>\n    .dataframe tbody tr th:only-of-type {\n        vertical-align: middle;\n    }\n\n    .dataframe tbody tr th {\n        vertical-align: top;\n    }\n\n    .dataframe thead th {\n        text-align: right;\n    }\n</style>\n<table border=\"1\" class=\"dataframe\">\n  <thead>\n    <tr style=\"text-align: right;\">\n      <th></th>\n      <th>PassengerId</th>\n      <th>Survived</th>\n      <th>Pclass</th>\n      <th>Name</th>\n      <th>Sex</th>\n      <th>Age</th>\n      <th>SibSp</th>\n      <th>Parch</th>\n      <th>Ticket</th>\n      <th>Fare</th>\n      <th>Cabin</th>\n      <th>Embarked</th>\n    </tr>\n  </thead>\n  <tbody>\n    <tr>\n      <th>2</th>\n      <td>3</td>\n      <td>1</td>\n      <td>3</td>\n      <td>Heikkinen, Miss. Laina</td>\n      <td>female</td>\n      <td>26.0</td>\n      <td>0</td>\n      <td>0</td>\n      <td>STON/O2. 3101282</td>\n      <td>7.925</td>\n      <td>NaN</td>\n      <td>S</td>\n    </tr>\n    <tr>\n      <th>3</th>\n      <td>4</td>\n      <td>1</td>\n      <td>1</td>\n      <td>Futrelle, Mrs. Jacques Heath (Lily May Peel)</td>\n      <td>female</td>\n      <td>35.0</td>\n      <td>1</td>\n      <td>0</td>\n      <td>113803</td>\n      <td>53.100</td>\n      <td>C123</td>\n      <td>S</td>\n    </tr>\n    <tr>\n      <th>4</th>\n      <td>5</td>\n      <td>0</td>\n      <td>3</td>\n      <td>Allen, Mr. William Henry</td>\n      <td>male</td>\n      <td>35.0</td>\n      <td>0</td>\n      <td>0</td>\n      <td>373450</td>\n      <td>8.050</td>\n      <td>NaN</td>\n      <td>S</td>\n    </tr>\n  </tbody>\n</table>\n</div>"
     },
     "execution_count": 18,
     "metadata": {},
     "output_type": "execute_result"
    }
   ],
   "source": [
    "data.loc[2:4]"
   ],
   "metadata": {
    "collapsed": false,
    "ExecuteTime": {
     "end_time": "2024-02-20T11:46:22.878776599Z",
     "start_time": "2024-02-20T11:46:22.785000613Z"
    }
   },
   "id": "e84cd2c79853b6f4",
   "execution_count": 18
  },
  {
   "cell_type": "code",
   "outputs": [
    {
     "data": {
      "text/plain": "0                                Braund, Mr. Owen Harris\n1      Cumings, Mrs. John Bradley (Florence Briggs Th...\n2                                 Heikkinen, Miss. Laina\n3           Futrelle, Mrs. Jacques Heath (Lily May Peel)\n4                               Allen, Mr. William Henry\n                             ...                        \n886                                Montvila, Rev. Juozas\n887                         Graham, Miss. Margaret Edith\n888             Johnston, Miss. Catherine Helen \"Carrie\"\n889                                Behr, Mr. Karl Howell\n890                                  Dooley, Mr. Patrick\nName: Name, Length: 891, dtype: object"
     },
     "execution_count": 20,
     "metadata": {},
     "output_type": "execute_result"
    }
   ],
   "source": [
    "data['Name']"
   ],
   "metadata": {
    "collapsed": false,
    "ExecuteTime": {
     "end_time": "2024-02-20T11:47:18.342650342Z",
     "start_time": "2024-02-20T11:47:18.295950463Z"
    }
   },
   "id": "42c2a51e744e5b94",
   "execution_count": 20
  },
  {
   "cell_type": "code",
   "outputs": [
    {
     "data": {
      "text/plain": "0      22.0\n1      38.0\n2      26.0\n3      35.0\n4      35.0\n       ... \n886    27.0\n887    19.0\n888     NaN\n889    26.0\n890    32.0\nName: Age, Length: 891, dtype: float64"
     },
     "execution_count": 21,
     "metadata": {},
     "output_type": "execute_result"
    }
   ],
   "source": [
    "data['Age']"
   ],
   "metadata": {
    "collapsed": false,
    "ExecuteTime": {
     "end_time": "2024-02-20T11:47:49.643600759Z",
     "start_time": "2024-02-20T11:47:49.598999464Z"
    }
   },
   "id": "4b2db71b9d43bdf8",
   "execution_count": 21
  },
  {
   "cell_type": "code",
   "outputs": [
    {
     "data": {
      "text/plain": "                                                  Name   Age\n0                              Braund, Mr. Owen Harris  22.0\n1    Cumings, Mrs. John Bradley (Florence Briggs Th...  38.0\n2                               Heikkinen, Miss. Laina  26.0\n3         Futrelle, Mrs. Jacques Heath (Lily May Peel)  35.0\n4                             Allen, Mr. William Henry  35.0\n..                                                 ...   ...\n886                              Montvila, Rev. Juozas  27.0\n887                       Graham, Miss. Margaret Edith  19.0\n888           Johnston, Miss. Catherine Helen \"Carrie\"   NaN\n889                              Behr, Mr. Karl Howell  26.0\n890                                Dooley, Mr. Patrick  32.0\n\n[891 rows x 2 columns]",
      "text/html": "<div>\n<style scoped>\n    .dataframe tbody tr th:only-of-type {\n        vertical-align: middle;\n    }\n\n    .dataframe tbody tr th {\n        vertical-align: top;\n    }\n\n    .dataframe thead th {\n        text-align: right;\n    }\n</style>\n<table border=\"1\" class=\"dataframe\">\n  <thead>\n    <tr style=\"text-align: right;\">\n      <th></th>\n      <th>Name</th>\n      <th>Age</th>\n    </tr>\n  </thead>\n  <tbody>\n    <tr>\n      <th>0</th>\n      <td>Braund, Mr. Owen Harris</td>\n      <td>22.0</td>\n    </tr>\n    <tr>\n      <th>1</th>\n      <td>Cumings, Mrs. John Bradley (Florence Briggs Th...</td>\n      <td>38.0</td>\n    </tr>\n    <tr>\n      <th>2</th>\n      <td>Heikkinen, Miss. Laina</td>\n      <td>26.0</td>\n    </tr>\n    <tr>\n      <th>3</th>\n      <td>Futrelle, Mrs. Jacques Heath (Lily May Peel)</td>\n      <td>35.0</td>\n    </tr>\n    <tr>\n      <th>4</th>\n      <td>Allen, Mr. William Henry</td>\n      <td>35.0</td>\n    </tr>\n    <tr>\n      <th>...</th>\n      <td>...</td>\n      <td>...</td>\n    </tr>\n    <tr>\n      <th>886</th>\n      <td>Montvila, Rev. Juozas</td>\n      <td>27.0</td>\n    </tr>\n    <tr>\n      <th>887</th>\n      <td>Graham, Miss. Margaret Edith</td>\n      <td>19.0</td>\n    </tr>\n    <tr>\n      <th>888</th>\n      <td>Johnston, Miss. Catherine Helen \"Carrie\"</td>\n      <td>NaN</td>\n    </tr>\n    <tr>\n      <th>889</th>\n      <td>Behr, Mr. Karl Howell</td>\n      <td>26.0</td>\n    </tr>\n    <tr>\n      <th>890</th>\n      <td>Dooley, Mr. Patrick</td>\n      <td>32.0</td>\n    </tr>\n  </tbody>\n</table>\n<p>891 rows × 2 columns</p>\n</div>"
     },
     "execution_count": 30,
     "metadata": {},
     "output_type": "execute_result"
    }
   ],
   "source": [
    "data[[\"Name\", \"Age\"]]"
   ],
   "metadata": {
    "collapsed": false,
    "ExecuteTime": {
     "end_time": "2024-02-20T11:54:53.983407566Z",
     "start_time": "2024-02-20T11:54:53.957779073Z"
    }
   },
   "id": "9a73ac29a01d1e47",
   "execution_count": 30
  },
  {
   "cell_type": "code",
   "outputs": [
    {
     "data": {
      "text/plain": "1      Cumings, Mrs. John Bradley (Florence Briggs Th...\n2                                 Heikkinen, Miss. Laina\n3           Futrelle, Mrs. Jacques Heath (Lily May Peel)\n8      Johnson, Mrs. Oscar W (Elisabeth Vilhelmina Berg)\n9                    Nasser, Mrs. Nicholas (Adele Achem)\n                             ...                        \n880         Shelley, Mrs. William (Imanita Parrish Hall)\n882                         Dahlberg, Miss. Gerda Ulrika\n885                 Rice, Mrs. William (Margaret Norton)\n887                         Graham, Miss. Margaret Edith\n888             Johnston, Miss. Catherine Helen \"Carrie\"\nName: Name, Length: 314, dtype: object"
     },
     "execution_count": 51,
     "metadata": {},
     "output_type": "execute_result"
    }
   ],
   "source": [
    "data[data.Sex == 'female'].Name"
   ],
   "metadata": {
    "collapsed": false,
    "ExecuteTime": {
     "end_time": "2024-02-20T12:04:06.552755003Z",
     "start_time": "2024-02-20T12:04:06.544187970Z"
    }
   },
   "id": "f39ff4d81a21749a",
   "execution_count": 51
  },
  {
   "cell_type": "code",
   "outputs": [
    {
     "data": {
      "text/plain": "                                                  Name   Age\n1    Cumings, Mrs. John Bradley (Florence Briggs Th...  38.0\n2                               Heikkinen, Miss. Laina  26.0\n3         Futrelle, Mrs. Jacques Heath (Lily May Peel)  35.0\n8    Johnson, Mrs. Oscar W (Elisabeth Vilhelmina Berg)  27.0\n11                            Bonnell, Miss. Elizabeth  58.0\n..                                                 ...   ...\n879      Potter, Mrs. Thomas Jr (Lily Alexenia Wilson)  56.0\n880       Shelley, Mrs. William (Imanita Parrish Hall)  25.0\n882                       Dahlberg, Miss. Gerda Ulrika  22.0\n885               Rice, Mrs. William (Margaret Norton)  39.0\n887                       Graham, Miss. Margaret Edith  19.0\n\n[193 rows x 2 columns]",
      "text/html": "<div>\n<style scoped>\n    .dataframe tbody tr th:only-of-type {\n        vertical-align: middle;\n    }\n\n    .dataframe tbody tr th {\n        vertical-align: top;\n    }\n\n    .dataframe thead th {\n        text-align: right;\n    }\n</style>\n<table border=\"1\" class=\"dataframe\">\n  <thead>\n    <tr style=\"text-align: right;\">\n      <th></th>\n      <th>Name</th>\n      <th>Age</th>\n    </tr>\n  </thead>\n  <tbody>\n    <tr>\n      <th>1</th>\n      <td>Cumings, Mrs. John Bradley (Florence Briggs Th...</td>\n      <td>38.0</td>\n    </tr>\n    <tr>\n      <th>2</th>\n      <td>Heikkinen, Miss. Laina</td>\n      <td>26.0</td>\n    </tr>\n    <tr>\n      <th>3</th>\n      <td>Futrelle, Mrs. Jacques Heath (Lily May Peel)</td>\n      <td>35.0</td>\n    </tr>\n    <tr>\n      <th>8</th>\n      <td>Johnson, Mrs. Oscar W (Elisabeth Vilhelmina Berg)</td>\n      <td>27.0</td>\n    </tr>\n    <tr>\n      <th>11</th>\n      <td>Bonnell, Miss. Elizabeth</td>\n      <td>58.0</td>\n    </tr>\n    <tr>\n      <th>...</th>\n      <td>...</td>\n      <td>...</td>\n    </tr>\n    <tr>\n      <th>879</th>\n      <td>Potter, Mrs. Thomas Jr (Lily Alexenia Wilson)</td>\n      <td>56.0</td>\n    </tr>\n    <tr>\n      <th>880</th>\n      <td>Shelley, Mrs. William (Imanita Parrish Hall)</td>\n      <td>25.0</td>\n    </tr>\n    <tr>\n      <th>882</th>\n      <td>Dahlberg, Miss. Gerda Ulrika</td>\n      <td>22.0</td>\n    </tr>\n    <tr>\n      <th>885</th>\n      <td>Rice, Mrs. William (Margaret Norton)</td>\n      <td>39.0</td>\n    </tr>\n    <tr>\n      <th>887</th>\n      <td>Graham, Miss. Margaret Edith</td>\n      <td>19.0</td>\n    </tr>\n  </tbody>\n</table>\n<p>193 rows × 2 columns</p>\n</div>"
     },
     "execution_count": 54,
     "metadata": {},
     "output_type": "execute_result"
    }
   ],
   "source": [
    "data[(data.Sex == 'female') & (data.Age > 18)][[\"Name\", \"Age\"]]"
   ],
   "metadata": {
    "collapsed": false,
    "ExecuteTime": {
     "end_time": "2024-02-20T12:11:58.293033300Z",
     "start_time": "2024-02-20T12:11:58.272615962Z"
    }
   },
   "id": "c4033ba50575025e",
   "execution_count": 54
  },
  {
   "cell_type": "code",
   "outputs": [
    {
     "data": {
      "text/plain": "     PassengerId  Survived  Pclass  \\\n1              2         1       1   \n3              4         1       1   \n6              7         0       1   \n9             10         1       2   \n11            12         1       1   \n..           ...       ...     ...   \n880          881         1       2   \n883          884         0       2   \n886          887         0       2   \n887          888         1       1   \n889          890         1       1   \n\n                                                  Name     Sex   Age  SibSp  \\\n1    Cumings, Mrs. John Bradley (Florence Briggs Th...  female  38.0      1   \n3         Futrelle, Mrs. Jacques Heath (Lily May Peel)  female  35.0      1   \n6                              McCarthy, Mr. Timothy J    male  54.0      0   \n9                  Nasser, Mrs. Nicholas (Adele Achem)  female  14.0      1   \n11                            Bonnell, Miss. Elizabeth  female  58.0      0   \n..                                                 ...     ...   ...    ...   \n880       Shelley, Mrs. William (Imanita Parrish Hall)  female  25.0      0   \n883                      Banfield, Mr. Frederick James    male  28.0      0   \n886                              Montvila, Rev. Juozas    male  27.0      0   \n887                       Graham, Miss. Margaret Edith  female  19.0      0   \n889                              Behr, Mr. Karl Howell    male  26.0      0   \n\n     Parch            Ticket     Fare Cabin Embarked  \n1        0          PC 17599  71.2833   C85        C  \n3        0            113803  53.1000  C123        S  \n6        0             17463  51.8625   E46        S  \n9        0            237736  30.0708   NaN        C  \n11       0            113783  26.5500  C103        S  \n..     ...               ...      ...   ...      ...  \n880      1            230433  26.0000   NaN        S  \n883      0  C.A./SOTON 34068  10.5000   NaN        S  \n886      0            211536  13.0000   NaN        S  \n887      0            112053  30.0000   B42        S  \n889      0            111369  30.0000  C148        C  \n\n[400 rows x 12 columns]",
      "text/html": "<div>\n<style scoped>\n    .dataframe tbody tr th:only-of-type {\n        vertical-align: middle;\n    }\n\n    .dataframe tbody tr th {\n        vertical-align: top;\n    }\n\n    .dataframe thead th {\n        text-align: right;\n    }\n</style>\n<table border=\"1\" class=\"dataframe\">\n  <thead>\n    <tr style=\"text-align: right;\">\n      <th></th>\n      <th>PassengerId</th>\n      <th>Survived</th>\n      <th>Pclass</th>\n      <th>Name</th>\n      <th>Sex</th>\n      <th>Age</th>\n      <th>SibSp</th>\n      <th>Parch</th>\n      <th>Ticket</th>\n      <th>Fare</th>\n      <th>Cabin</th>\n      <th>Embarked</th>\n    </tr>\n  </thead>\n  <tbody>\n    <tr>\n      <th>1</th>\n      <td>2</td>\n      <td>1</td>\n      <td>1</td>\n      <td>Cumings, Mrs. John Bradley (Florence Briggs Th...</td>\n      <td>female</td>\n      <td>38.0</td>\n      <td>1</td>\n      <td>0</td>\n      <td>PC 17599</td>\n      <td>71.2833</td>\n      <td>C85</td>\n      <td>C</td>\n    </tr>\n    <tr>\n      <th>3</th>\n      <td>4</td>\n      <td>1</td>\n      <td>1</td>\n      <td>Futrelle, Mrs. Jacques Heath (Lily May Peel)</td>\n      <td>female</td>\n      <td>35.0</td>\n      <td>1</td>\n      <td>0</td>\n      <td>113803</td>\n      <td>53.1000</td>\n      <td>C123</td>\n      <td>S</td>\n    </tr>\n    <tr>\n      <th>6</th>\n      <td>7</td>\n      <td>0</td>\n      <td>1</td>\n      <td>McCarthy, Mr. Timothy J</td>\n      <td>male</td>\n      <td>54.0</td>\n      <td>0</td>\n      <td>0</td>\n      <td>17463</td>\n      <td>51.8625</td>\n      <td>E46</td>\n      <td>S</td>\n    </tr>\n    <tr>\n      <th>9</th>\n      <td>10</td>\n      <td>1</td>\n      <td>2</td>\n      <td>Nasser, Mrs. Nicholas (Adele Achem)</td>\n      <td>female</td>\n      <td>14.0</td>\n      <td>1</td>\n      <td>0</td>\n      <td>237736</td>\n      <td>30.0708</td>\n      <td>NaN</td>\n      <td>C</td>\n    </tr>\n    <tr>\n      <th>11</th>\n      <td>12</td>\n      <td>1</td>\n      <td>1</td>\n      <td>Bonnell, Miss. Elizabeth</td>\n      <td>female</td>\n      <td>58.0</td>\n      <td>0</td>\n      <td>0</td>\n      <td>113783</td>\n      <td>26.5500</td>\n      <td>C103</td>\n      <td>S</td>\n    </tr>\n    <tr>\n      <th>...</th>\n      <td>...</td>\n      <td>...</td>\n      <td>...</td>\n      <td>...</td>\n      <td>...</td>\n      <td>...</td>\n      <td>...</td>\n      <td>...</td>\n      <td>...</td>\n      <td>...</td>\n      <td>...</td>\n      <td>...</td>\n    </tr>\n    <tr>\n      <th>880</th>\n      <td>881</td>\n      <td>1</td>\n      <td>2</td>\n      <td>Shelley, Mrs. William (Imanita Parrish Hall)</td>\n      <td>female</td>\n      <td>25.0</td>\n      <td>0</td>\n      <td>1</td>\n      <td>230433</td>\n      <td>26.0000</td>\n      <td>NaN</td>\n      <td>S</td>\n    </tr>\n    <tr>\n      <th>883</th>\n      <td>884</td>\n      <td>0</td>\n      <td>2</td>\n      <td>Banfield, Mr. Frederick James</td>\n      <td>male</td>\n      <td>28.0</td>\n      <td>0</td>\n      <td>0</td>\n      <td>C.A./SOTON 34068</td>\n      <td>10.5000</td>\n      <td>NaN</td>\n      <td>S</td>\n    </tr>\n    <tr>\n      <th>886</th>\n      <td>887</td>\n      <td>0</td>\n      <td>2</td>\n      <td>Montvila, Rev. Juozas</td>\n      <td>male</td>\n      <td>27.0</td>\n      <td>0</td>\n      <td>0</td>\n      <td>211536</td>\n      <td>13.0000</td>\n      <td>NaN</td>\n      <td>S</td>\n    </tr>\n    <tr>\n      <th>887</th>\n      <td>888</td>\n      <td>1</td>\n      <td>1</td>\n      <td>Graham, Miss. Margaret Edith</td>\n      <td>female</td>\n      <td>19.0</td>\n      <td>0</td>\n      <td>0</td>\n      <td>112053</td>\n      <td>30.0000</td>\n      <td>B42</td>\n      <td>S</td>\n    </tr>\n    <tr>\n      <th>889</th>\n      <td>890</td>\n      <td>1</td>\n      <td>1</td>\n      <td>Behr, Mr. Karl Howell</td>\n      <td>male</td>\n      <td>26.0</td>\n      <td>0</td>\n      <td>0</td>\n      <td>111369</td>\n      <td>30.0000</td>\n      <td>C148</td>\n      <td>C</td>\n    </tr>\n  </tbody>\n</table>\n<p>400 rows × 12 columns</p>\n</div>"
     },
     "execution_count": 56,
     "metadata": {},
     "output_type": "execute_result"
    }
   ],
   "source": [
    "data[data.Pclass.isin([1, 2])]"
   ],
   "metadata": {
    "collapsed": false,
    "ExecuteTime": {
     "end_time": "2024-02-20T12:15:20.726960079Z",
     "start_time": "2024-02-20T12:15:20.684467277Z"
    }
   },
   "id": "e7a324ee6e66cbb3",
   "execution_count": 56
  },
  {
   "cell_type": "code",
   "outputs": [],
   "source": [
    "data[\"FamilySize\"] = data[\"SibSp\"] + data[\"Parch\"]"
   ],
   "metadata": {
    "collapsed": false,
    "ExecuteTime": {
     "end_time": "2024-02-20T12:19:16.449927080Z",
     "start_time": "2024-02-20T12:19:16.403122764Z"
    }
   },
   "id": "d6a47b4e2afc216d",
   "execution_count": 57
  },
  {
   "cell_type": "code",
   "outputs": [
    {
     "data": {
      "text/plain": "0      1\n1      1\n2      0\n3      1\n4      0\n      ..\n886    0\n887    0\n888    3\n889    0\n890    0\nName: FamilySize, Length: 891, dtype: int64"
     },
     "execution_count": 58,
     "metadata": {},
     "output_type": "execute_result"
    }
   ],
   "source": [
    "data['FamilySize']"
   ],
   "metadata": {
    "collapsed": false,
    "ExecuteTime": {
     "end_time": "2024-02-20T12:19:26.488398293Z",
     "start_time": "2024-02-20T12:19:26.466243881Z"
    }
   },
   "id": "68b828bc07569a48",
   "execution_count": 58
  },
  {
   "cell_type": "code",
   "outputs": [
    {
     "data": {
      "text/plain": "0      <function <lambda> at 0x7f7cb71937f0>\n1      <function <lambda> at 0x7f7cb71937f0>\n2      <function <lambda> at 0x7f7cb71937f0>\n3      <function <lambda> at 0x7f7cb71937f0>\n4      <function <lambda> at 0x7f7cb71937f0>\n                       ...                  \n886    <function <lambda> at 0x7f7cb71937f0>\n887    <function <lambda> at 0x7f7cb71937f0>\n888    <function <lambda> at 0x7f7cb71937f0>\n889    <function <lambda> at 0x7f7cb71937f0>\n890    <function <lambda> at 0x7f7cb71937f0>\nName: Alone, Length: 891, dtype: object"
     },
     "execution_count": 61,
     "metadata": {},
     "output_type": "execute_result"
    }
   ],
   "source": [
    "data[\"Alone\"]"
   ],
   "metadata": {
    "collapsed": false,
    "ExecuteTime": {
     "end_time": "2024-02-20T12:21:39.938478537Z",
     "start_time": "2024-02-20T12:21:39.893304195Z"
    }
   },
   "id": "6a334b7027b50370",
   "execution_count": 61
  },
  {
   "cell_type": "code",
   "outputs": [],
   "source": [
    "import pandas  as pd\n",
    "import numpy as np\n",
    "import matplotlib.pyplot as plt"
   ],
   "metadata": {
    "collapsed": false,
    "ExecuteTime": {
     "end_time": "2024-03-05T10:59:05.767734Z",
     "start_time": "2024-03-05T10:59:04.365685Z"
    }
   },
   "id": "a7f3b2f6ea0c69ad",
   "execution_count": 1
  },
  {
   "cell_type": "code",
   "outputs": [],
   "source": [
    "x = np.array([1, 2, 3])"
   ],
   "metadata": {
    "collapsed": false,
    "ExecuteTime": {
     "end_time": "2024-03-05T10:59:19.724364Z",
     "start_time": "2024-03-05T10:59:19.720537Z"
    }
   },
   "id": "61cdb75bb7992f01",
   "execution_count": 2
  },
  {
   "cell_type": "code",
   "outputs": [
    {
     "data": {
      "text/plain": "array([1, 2, 3])"
     },
     "execution_count": 3,
     "metadata": {},
     "output_type": "execute_result"
    }
   ],
   "source": [
    "x"
   ],
   "metadata": {
    "collapsed": false,
    "ExecuteTime": {
     "end_time": "2024-03-05T10:59:32.761432Z",
     "start_time": "2024-03-05T10:59:32.754364Z"
    }
   },
   "id": "b225db75c16d94f",
   "execution_count": 3
  },
  {
   "cell_type": "code",
   "outputs": [],
   "source": [
    "x = np.array([[1, 2, 3], [4, 5, 6]])"
   ],
   "metadata": {
    "collapsed": false,
    "ExecuteTime": {
     "end_time": "2024-03-05T11:01:32.026912Z",
     "start_time": "2024-03-05T11:01:32.023253Z"
    }
   },
   "id": "88ce5b63a16ba855",
   "execution_count": 4
  },
  {
   "cell_type": "code",
   "outputs": [
    {
     "data": {
      "text/plain": "array([[1, 2, 3],\n       [4, 5, 6]])"
     },
     "execution_count": 5,
     "metadata": {},
     "output_type": "execute_result"
    }
   ],
   "source": [
    "x"
   ],
   "metadata": {
    "collapsed": false,
    "ExecuteTime": {
     "end_time": "2024-03-05T11:01:35.685362Z",
     "start_time": "2024-03-05T11:01:35.680344Z"
    }
   },
   "id": "317d3bf8f05a129d",
   "execution_count": 5
  },
  {
   "cell_type": "code",
   "outputs": [],
   "source": [
    "x = np.array([[1, 2, 3], [4, 5, 6]], dtype=object) # чтобы запустилось dtype=object"
   ],
   "metadata": {
    "collapsed": false,
    "ExecuteTime": {
     "end_time": "2024-03-05T11:14:49.146439Z",
     "start_time": "2024-03-05T11:14:49.142438Z"
    }
   },
   "id": "554993cfeaa82b99",
   "execution_count": 11
  },
  {
   "cell_type": "code",
   "outputs": [
    {
     "data": {
      "text/plain": "(2, 3)"
     },
     "execution_count": 12,
     "metadata": {},
     "output_type": "execute_result"
    }
   ],
   "source": [
    "x.shape"
   ],
   "metadata": {
    "collapsed": false,
    "ExecuteTime": {
     "end_time": "2024-03-05T11:14:50.249896Z",
     "start_time": "2024-03-05T11:14:50.245362Z"
    }
   },
   "id": "f48598126dc8c607",
   "execution_count": 12
  },
  {
   "cell_type": "code",
   "outputs": [
    {
     "ename": "NameError",
     "evalue": "name 'data' is not defined",
     "output_type": "error",
     "traceback": [
      "\u001B[0;31m---------------------------------------------------------------------------\u001B[0m",
      "\u001B[0;31mNameError\u001B[0m                                 Traceback (most recent call last)",
      "Cell \u001B[0;32mIn[14], line 1\u001B[0m\n\u001B[0;32m----> 1\u001B[0m \u001B[43mdata\u001B[49m\u001B[38;5;241m.\u001B[39mgroupby(\u001B[38;5;124m\"\u001B[39m\u001B[38;5;124mSurvived\u001B[39m\u001B[38;5;124m\"\u001B[39m)\u001B[38;5;241m.\u001B[39mcount()\n",
      "\u001B[0;31mNameError\u001B[0m: name 'data' is not defined"
     ]
    }
   ],
   "source": [],
   "metadata": {
    "collapsed": false,
    "ExecuteTime": {
     "end_time": "2024-03-05T12:10:50.736112Z",
     "start_time": "2024-03-05T12:10:50.724598Z"
    }
   },
   "id": "8d1c483cb5645c6e",
   "execution_count": 14
  },
  {
   "cell_type": "code",
   "outputs": [],
   "source": [],
   "metadata": {
    "collapsed": false
   },
   "id": "26da39ff2a7119e2"
  }
 ],
 "metadata": {
  "kernelspec": {
   "display_name": "Python 3",
   "language": "python",
   "name": "python3"
  },
  "language_info": {
   "codemirror_mode": {
    "name": "ipython",
    "version": 2
   },
   "file_extension": ".py",
   "mimetype": "text/x-python",
   "name": "python",
   "nbconvert_exporter": "python",
   "pygments_lexer": "ipython2",
   "version": "2.7.6"
  }
 },
 "nbformat": 4,
 "nbformat_minor": 5
}
