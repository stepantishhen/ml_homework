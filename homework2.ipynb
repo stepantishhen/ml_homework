{
 "cells": [
  {
   "metadata": {
    "ExecuteTime": {
     "end_time": "2024-04-29T15:34:44.122702Z",
     "start_time": "2024-04-29T15:34:44.020133Z"
    }
   },
   "cell_type": "code",
   "source": [
    "import pygame\n",
    "import numpy as np\n",
    "# from sklearn.cluster import DBSCAN"
   ],
   "id": "d79f073a050a4dd4",
   "execution_count": 2,
   "outputs": []
  },
  {
   "metadata": {
    "ExecuteTime": {
     "end_time": "2024-04-29T15:34:48.078923Z",
     "start_time": "2024-04-29T15:34:48.071307Z"
    }
   },
   "cell_type": "code",
   "source": [
    "class DBSCAN:\n",
    "    def __init__(self, epsilon=1, min_pts=5):\n",
    "        self.epsilon = epsilon\n",
    "        self.min_pts = min_pts\n",
    "        self.clusters = []\n",
    "        self.noise = []\n",
    "    \n",
    "    @staticmethod\n",
    "    def _euclidean_distance(point1, point2):\n",
    "        return np.sqrt(np.sum((point1 - point2) ** 2))\n",
    "    \n",
    "    def _get_neighbors(self, dataset, point):\n",
    "        neighbors = []\n",
    "        for index, candidate in enumerate(dataset):\n",
    "            if self._euclidean_distance(point, candidate) < self.epsilon:\n",
    "                neighbors.append(index)\n",
    "        return neighbors\n",
    "    \n",
    "    @staticmethod\n",
    "    def fit(self, dataset):\n",
    "        visited = [False]*len(dataset)\n",
    "        for index in range(len(dataset)):\n",
    "            if not visited[index]:\n",
    "                visited[index] = True\n",
    "                neighbors = self._get_neighbors(dataset, dataset[index])\n",
    "                if len(neighbors) < self.min_pts:\n",
    "                    self.noise.append(index)\n",
    "                else:\n",
    "                    self._expand_cluster(dataset, visited, index, neighbors)\n",
    "        return self.clusters, self.noise\n",
    "\n",
    "    def _expand_cluster(self, dataset, visited, index, neighbors):\n",
    "        self.clusters.append([index])\n",
    "        i = 0\n",
    "        while i < len(neighbors):\n",
    "            next_index = neighbors[i]\n",
    "            if not visited[next_index]:\n",
    "                visited[next_index] = True\n",
    "                next_neighbors = self._get_neighbors(dataset, dataset[next_index])\n",
    "                if len(next_neighbors) >= self.min_pts:\n",
    "                    neighbors += next_neighbors\n",
    "            cluster_indices = [i for cluster in self.clusters for i in cluster]\n",
    "            if next_index not in cluster_indices:\n",
    "                self.clusters[-1].append(next_index)\n",
    "            i += 1"
   ],
   "id": "bb303d1ef5ab636",
   "execution_count": 3,
   "outputs": []
  },
  {
   "metadata": {
    "ExecuteTime": {
     "end_time": "2024-04-29T15:35:33.548605Z",
     "start_time": "2024-04-29T15:35:30.073202Z"
    }
   },
   "cell_type": "code",
   "source": [
    "import pygame\n",
    "\n",
    "pygame.init()\n",
    "\n",
    "window_size = (600, 400)\n",
    "background_color = (255, 255, 255)\n",
    "points = []\n",
    "point_r = 5\n",
    "\n",
    "\n",
    "\n",
    "pygame.display.set_caption(\"test\")\n",
    "screen = pygame.display.set_mode(window_size)\n",
    "screen.fill(background_color)\n",
    "\n",
    "colors = ['blue', 'green', 'red', 'yellow', 'black', 'white']\n",
    "while True:\n",
    "    for event in pygame.event.get():\n",
    "        if event.type == pygame.QUIT:\n",
    "            pygame.quit()\n",
    "            exit()\n",
    "\n",
    "        if event.type == pygame.MOUSEBUTTONDOWN:\n",
    "            if event.button == 1:\n",
    "                point = [pygame.mouse.get_pos()[0], pygame.mouse.get_pos()[1]]\n",
    "                points.append(point)\n",
    "                print(points)\n",
    "                cluster1 = np.random.normal(5, 2, size=(50, 2))\n",
    "                print(cluster1)\n",
    "                pygame.draw.circle(screen, 'black', point, point_r)\n",
    "\n",
    "        if event.type == pygame.KEYDOWN:\n",
    "            if event.key == pygame.K_r:\n",
    "                dbscan = DBSCAN(epsilon=40, min_pts=5)\n",
    "                clusters, noise = dbscan.fit(points)\n",
    "                for i in range(len(points)):\n",
    "                    pygame.draw.circle(screen, colors[clusters[i]], points[i], point_r)\n",
    "\n",
    "        pygame.display.flip()\n"
   ],
   "id": "initial_id",
   "execution_count": 2,
   "outputs": []
  },
  {
   "metadata": {},
   "cell_type": "code",
   "execution_count": null,
   "source": "",
   "id": "cb08314acab397be",
   "outputs": []
  }
 ],
 "metadata": {
  "kernelspec": {
   "display_name": "Python 3",
   "language": "python",
   "name": "python3"
  },
  "language_info": {
   "codemirror_mode": {
    "name": "ipython",
    "version": 2
   },
   "file_extension": ".py",
   "mimetype": "text/x-python",
   "name": "python",
   "nbconvert_exporter": "python",
   "pygments_lexer": "ipython2",
   "version": "2.7.6"
  }
 },
 "nbformat": 4,
 "nbformat_minor": 5
}
